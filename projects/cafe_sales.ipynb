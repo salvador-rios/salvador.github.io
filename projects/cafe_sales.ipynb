{
 "cells": [
  {
   "cell_type": "code",
   "execution_count": 116,
   "metadata": {},
   "outputs": [],
   "source": [
    "import pandas as pd\n",
    "import numpy as np\n",
    "import kaggle\n",
    "\n",
    "import seaborn as sns\n",
    "import matplotlib.pyplot as plt\n",
    "\n",
    "sns.set_theme(style='white')\n",
    "np.random.seed(0)"
   ]
  },
  {
   "cell_type": "code",
   "execution_count": null,
   "metadata": {},
   "outputs": [],
   "source": [
    "# # authenticate kaggle credentials\n",
    "# kaggle.api.authenticate()\n",
    "\n",
    "# # download dataset\n",
    "# kaggle.api.dataset_download_files('ahmedmohamed2003/cafe-sales-dirty-data-for-cleaning-training', path='data', unzip=True)"
   ]
  },
  {
   "cell_type": "code",
   "execution_count": null,
   "metadata": {},
   "outputs": [
    {
     "data": {
      "application/vnd.microsoft.datawrangler.viewer.v0+json": {
       "columns": [
        {
         "name": "index",
         "rawType": "int64",
         "type": "integer"
        },
        {
         "name": "Transaction ID",
         "rawType": "object",
         "type": "string"
        },
        {
         "name": "Item",
         "rawType": "object",
         "type": "string"
        },
        {
         "name": "Quantity",
         "rawType": "object",
         "type": "string"
        },
        {
         "name": "Price Per Unit",
         "rawType": "object",
         "type": "string"
        },
        {
         "name": "Total Spent",
         "rawType": "object",
         "type": "string"
        },
        {
         "name": "Payment Method",
         "rawType": "object",
         "type": "string"
        },
        {
         "name": "Location",
         "rawType": "object",
         "type": "string"
        },
        {
         "name": "Transaction Date",
         "rawType": "object",
         "type": "string"
        }
       ],
       "conversionMethod": "pd.DataFrame",
       "ref": "949769cf-a4e4-4c8f-86d1-de832094bb0a",
       "rows": [
        [
         "0",
         "TXN_1961373",
         "Coffee",
         "2",
         "2.0",
         "4.0",
         "Credit Card",
         "Takeaway",
         "2023-09-08"
        ],
        [
         "1",
         "TXN_4977031",
         "Cake",
         "4",
         "3.0",
         "12.0",
         "Cash",
         "In-store",
         "2023-05-16"
        ],
        [
         "2",
         "TXN_4271903",
         "Cookie",
         "4",
         "1.0",
         "ERROR",
         "Credit Card",
         "In-store",
         "2023-07-19"
        ],
        [
         "3",
         "TXN_7034554",
         "Salad",
         "2",
         "5.0",
         "10.0",
         "UNKNOWN",
         "UNKNOWN",
         "2023-04-27"
        ],
        [
         "4",
         "TXN_3160411",
         "Coffee",
         "2",
         "2.0",
         "4.0",
         "Digital Wallet",
         "In-store",
         "2023-06-11"
        ]
       ],
       "shape": {
        "columns": 8,
        "rows": 5
       }
      },
      "text/html": [
       "<div>\n",
       "<style scoped>\n",
       "    .dataframe tbody tr th:only-of-type {\n",
       "        vertical-align: middle;\n",
       "    }\n",
       "\n",
       "    .dataframe tbody tr th {\n",
       "        vertical-align: top;\n",
       "    }\n",
       "\n",
       "    .dataframe thead th {\n",
       "        text-align: right;\n",
       "    }\n",
       "</style>\n",
       "<table border=\"1\" class=\"dataframe\">\n",
       "  <thead>\n",
       "    <tr style=\"text-align: right;\">\n",
       "      <th></th>\n",
       "      <th>Transaction ID</th>\n",
       "      <th>Item</th>\n",
       "      <th>Quantity</th>\n",
       "      <th>Price Per Unit</th>\n",
       "      <th>Total Spent</th>\n",
       "      <th>Payment Method</th>\n",
       "      <th>Location</th>\n",
       "      <th>Transaction Date</th>\n",
       "    </tr>\n",
       "  </thead>\n",
       "  <tbody>\n",
       "    <tr>\n",
       "      <th>0</th>\n",
       "      <td>TXN_1961373</td>\n",
       "      <td>Coffee</td>\n",
       "      <td>2</td>\n",
       "      <td>2.0</td>\n",
       "      <td>4.0</td>\n",
       "      <td>Credit Card</td>\n",
       "      <td>Takeaway</td>\n",
       "      <td>2023-09-08</td>\n",
       "    </tr>\n",
       "    <tr>\n",
       "      <th>1</th>\n",
       "      <td>TXN_4977031</td>\n",
       "      <td>Cake</td>\n",
       "      <td>4</td>\n",
       "      <td>3.0</td>\n",
       "      <td>12.0</td>\n",
       "      <td>Cash</td>\n",
       "      <td>In-store</td>\n",
       "      <td>2023-05-16</td>\n",
       "    </tr>\n",
       "    <tr>\n",
       "      <th>2</th>\n",
       "      <td>TXN_4271903</td>\n",
       "      <td>Cookie</td>\n",
       "      <td>4</td>\n",
       "      <td>1.0</td>\n",
       "      <td>ERROR</td>\n",
       "      <td>Credit Card</td>\n",
       "      <td>In-store</td>\n",
       "      <td>2023-07-19</td>\n",
       "    </tr>\n",
       "    <tr>\n",
       "      <th>3</th>\n",
       "      <td>TXN_7034554</td>\n",
       "      <td>Salad</td>\n",
       "      <td>2</td>\n",
       "      <td>5.0</td>\n",
       "      <td>10.0</td>\n",
       "      <td>UNKNOWN</td>\n",
       "      <td>UNKNOWN</td>\n",
       "      <td>2023-04-27</td>\n",
       "    </tr>\n",
       "    <tr>\n",
       "      <th>4</th>\n",
       "      <td>TXN_3160411</td>\n",
       "      <td>Coffee</td>\n",
       "      <td>2</td>\n",
       "      <td>2.0</td>\n",
       "      <td>4.0</td>\n",
       "      <td>Digital Wallet</td>\n",
       "      <td>In-store</td>\n",
       "      <td>2023-06-11</td>\n",
       "    </tr>\n",
       "  </tbody>\n",
       "</table>\n",
       "</div>"
      ],
      "text/plain": [
       "  Transaction ID    Item Quantity Price Per Unit Total Spent  Payment Method  \\\n",
       "0    TXN_1961373  Coffee        2            2.0         4.0     Credit Card   \n",
       "1    TXN_4977031    Cake        4            3.0        12.0            Cash   \n",
       "2    TXN_4271903  Cookie        4            1.0       ERROR     Credit Card   \n",
       "3    TXN_7034554   Salad        2            5.0        10.0         UNKNOWN   \n",
       "4    TXN_3160411  Coffee        2            2.0         4.0  Digital Wallet   \n",
       "\n",
       "   Location Transaction Date  \n",
       "0  Takeaway       2023-09-08  \n",
       "1  In-store       2023-05-16  \n",
       "2  In-store       2023-07-19  \n",
       "3   UNKNOWN       2023-04-27  \n",
       "4  In-store       2023-06-11  "
      ]
     },
     "execution_count": 118,
     "metadata": {},
     "output_type": "execute_result"
    }
   ],
   "source": [
    "# load data\n",
    "df = pd.read_csv('data/dirty_cafe_sales.csv')\n",
    "df.head()"
   ]
  },
  {
   "cell_type": "markdown",
   "metadata": {},
   "source": [
    "# EDA"
   ]
  },
  {
   "cell_type": "code",
   "execution_count": null,
   "metadata": {},
   "outputs": [
    {
     "name": "stdout",
     "output_type": "stream",
     "text": [
      "<class 'pandas.core.frame.DataFrame'>\n",
      "RangeIndex: 10000 entries, 0 to 9999\n",
      "Data columns (total 8 columns):\n",
      " #   Column            Non-Null Count  Dtype \n",
      "---  ------            --------------  ----- \n",
      " 0   Transaction ID    10000 non-null  object\n",
      " 1   Item              9667 non-null   object\n",
      " 2   Quantity          9862 non-null   object\n",
      " 3   Price Per Unit    9821 non-null   object\n",
      " 4   Total Spent       9827 non-null   object\n",
      " 5   Payment Method    7421 non-null   object\n",
      " 6   Location          6735 non-null   object\n",
      " 7   Transaction Date  9841 non-null   object\n",
      "dtypes: object(8)\n",
      "memory usage: 625.1+ KB\n"
     ]
    }
   ],
   "source": [
    "# check the columns\n",
    "df.info()"
   ]
  },
  {
   "cell_type": "code",
   "execution_count": null,
   "metadata": {},
   "outputs": [
    {
     "data": {
      "application/vnd.microsoft.datawrangler.viewer.v0+json": {
       "columns": [
        {
         "name": "index",
         "rawType": "object",
         "type": "string"
        },
        {
         "name": "Transaction ID",
         "rawType": "object",
         "type": "unknown"
        },
        {
         "name": "Item",
         "rawType": "object",
         "type": "unknown"
        },
        {
         "name": "Quantity",
         "rawType": "object",
         "type": "unknown"
        },
        {
         "name": "Price Per Unit",
         "rawType": "object",
         "type": "unknown"
        },
        {
         "name": "Total Spent",
         "rawType": "object",
         "type": "unknown"
        },
        {
         "name": "Payment Method",
         "rawType": "object",
         "type": "unknown"
        },
        {
         "name": "Location",
         "rawType": "object",
         "type": "unknown"
        },
        {
         "name": "Transaction Date",
         "rawType": "object",
         "type": "unknown"
        }
       ],
       "conversionMethod": "pd.DataFrame",
       "ref": "c98ff43a-cd88-4112-8262-f2bbd6aa3499",
       "rows": [
        [
         "count",
         "10000",
         "9667",
         "9862",
         "9821",
         "9827",
         "7421",
         "6735",
         "9841"
        ],
        [
         "unique",
         "10000",
         "10",
         "7",
         "8",
         "19",
         "5",
         "4",
         "367"
        ],
        [
         "top",
         "TXN_1961373",
         "Juice",
         "5",
         "3.0",
         "6.0",
         "Digital Wallet",
         "Takeaway",
         "UNKNOWN"
        ],
        [
         "freq",
         "1",
         "1171",
         "2013",
         "2429",
         "979",
         "2291",
         "3022",
         "159"
        ]
       ],
       "shape": {
        "columns": 8,
        "rows": 4
       }
      },
      "text/html": [
       "<div>\n",
       "<style scoped>\n",
       "    .dataframe tbody tr th:only-of-type {\n",
       "        vertical-align: middle;\n",
       "    }\n",
       "\n",
       "    .dataframe tbody tr th {\n",
       "        vertical-align: top;\n",
       "    }\n",
       "\n",
       "    .dataframe thead th {\n",
       "        text-align: right;\n",
       "    }\n",
       "</style>\n",
       "<table border=\"1\" class=\"dataframe\">\n",
       "  <thead>\n",
       "    <tr style=\"text-align: right;\">\n",
       "      <th></th>\n",
       "      <th>Transaction ID</th>\n",
       "      <th>Item</th>\n",
       "      <th>Quantity</th>\n",
       "      <th>Price Per Unit</th>\n",
       "      <th>Total Spent</th>\n",
       "      <th>Payment Method</th>\n",
       "      <th>Location</th>\n",
       "      <th>Transaction Date</th>\n",
       "    </tr>\n",
       "  </thead>\n",
       "  <tbody>\n",
       "    <tr>\n",
       "      <th>count</th>\n",
       "      <td>10000</td>\n",
       "      <td>9667</td>\n",
       "      <td>9862</td>\n",
       "      <td>9821</td>\n",
       "      <td>9827</td>\n",
       "      <td>7421</td>\n",
       "      <td>6735</td>\n",
       "      <td>9841</td>\n",
       "    </tr>\n",
       "    <tr>\n",
       "      <th>unique</th>\n",
       "      <td>10000</td>\n",
       "      <td>10</td>\n",
       "      <td>7</td>\n",
       "      <td>8</td>\n",
       "      <td>19</td>\n",
       "      <td>5</td>\n",
       "      <td>4</td>\n",
       "      <td>367</td>\n",
       "    </tr>\n",
       "    <tr>\n",
       "      <th>top</th>\n",
       "      <td>TXN_1961373</td>\n",
       "      <td>Juice</td>\n",
       "      <td>5</td>\n",
       "      <td>3.0</td>\n",
       "      <td>6.0</td>\n",
       "      <td>Digital Wallet</td>\n",
       "      <td>Takeaway</td>\n",
       "      <td>UNKNOWN</td>\n",
       "    </tr>\n",
       "    <tr>\n",
       "      <th>freq</th>\n",
       "      <td>1</td>\n",
       "      <td>1171</td>\n",
       "      <td>2013</td>\n",
       "      <td>2429</td>\n",
       "      <td>979</td>\n",
       "      <td>2291</td>\n",
       "      <td>3022</td>\n",
       "      <td>159</td>\n",
       "    </tr>\n",
       "  </tbody>\n",
       "</table>\n",
       "</div>"
      ],
      "text/plain": [
       "       Transaction ID   Item Quantity Price Per Unit Total Spent  \\\n",
       "count           10000   9667     9862           9821        9827   \n",
       "unique          10000     10        7              8          19   \n",
       "top       TXN_1961373  Juice        5            3.0         6.0   \n",
       "freq                1   1171     2013           2429         979   \n",
       "\n",
       "        Payment Method  Location Transaction Date  \n",
       "count             7421      6735             9841  \n",
       "unique               5         4              367  \n",
       "top     Digital Wallet  Takeaway          UNKNOWN  \n",
       "freq              2291      3022              159  "
      ]
     },
     "execution_count": 120,
     "metadata": {},
     "output_type": "execute_result"
    }
   ],
   "source": [
    "# check the descriptives\n",
    "df.describe()"
   ]
  },
  {
   "cell_type": "code",
   "execution_count": null,
   "metadata": {},
   "outputs": [
    {
     "data": {
      "text/plain": [
       "Transaction ID         0\n",
       "Item                 333\n",
       "Quantity             138\n",
       "Price Per Unit       179\n",
       "Total Spent          173\n",
       "Payment Method      2579\n",
       "Location            3265\n",
       "Transaction Date     159\n",
       "dtype: int64"
      ]
     },
     "execution_count": 121,
     "metadata": {},
     "output_type": "execute_result"
    }
   ],
   "source": [
    "# check for missing values\n",
    "df.isnull().sum()"
   ]
  },
  {
   "cell_type": "code",
   "execution_count": null,
   "metadata": {},
   "outputs": [
    {
     "data": {
      "text/plain": [
       "np.int64(0)"
      ]
     },
     "execution_count": 122,
     "metadata": {},
     "output_type": "execute_result"
    }
   ],
   "source": [
    "# check for duplicates\n",
    "df.duplicated().sum()"
   ]
  },
  {
   "cell_type": "markdown",
   "metadata": {},
   "source": [
    "# Preprocessing"
   ]
  },
  {
   "cell_type": "markdown",
   "metadata": {},
   "source": [
    "### Handling missing values"
   ]
  },
  {
   "cell_type": "code",
   "execution_count": 123,
   "metadata": {},
   "outputs": [],
   "source": [
    "# make a copy of the dataframe\n",
    "df1 = df.copy()"
   ]
  },
  {
   "cell_type": "code",
   "execution_count": 124,
   "metadata": {},
   "outputs": [],
   "source": [
    "# replace \"ERROR\" and \"UNKNOWN\" with np.nan\n",
    "df1 = df1.replace([\"ERROR\", \"UNKNOWN\"], np.nan, regex=True)\n"
   ]
  },
  {
   "cell_type": "code",
   "execution_count": 125,
   "metadata": {},
   "outputs": [],
   "source": [
    "# convert to numeric\n",
    "df1[['Price Per Unit', 'Quantity', 'Total Spent']] = df1[['Price Per Unit', 'Quantity', 'Total Spent']].apply(pd.to_numeric, errors='coerce')\n",
    "\n",
    "# convert to category\n",
    "df1[['Item', 'Location', 'Payment Method']] = df1[['Item', 'Location', 'Payment Method']].astype('category')\n",
    "\n",
    "# convert to datetime\n",
    "df1['Transaction Date'] = pd.to_datetime(df1['Transaction Date'], errors='coerce')"
   ]
  },
  {
   "cell_type": "code",
   "execution_count": 126,
   "metadata": {},
   "outputs": [
    {
     "data": {
      "text/plain": [
       "np.float64(12.6025)"
      ]
     },
     "execution_count": 126,
     "metadata": {},
     "output_type": "execute_result"
    }
   ],
   "source": [
    "# Check what percentage of the data is missing\n",
    "total_null = df1.isnull().sum().sum()\n",
    "total_cells = np.prod(df1.shape)\n",
    "percentage_null = (total_null / total_cells) * 100\n",
    "percentage_null"
   ]
  },
  {
   "cell_type": "code",
   "execution_count": 127,
   "metadata": {},
   "outputs": [],
   "source": [
    "# create a dictionary with the known menu prices\n",
    "menu = {\n",
    "    \"Coffee\": 2,\n",
    "    \"Tea\": 1.5,\n",
    "    \"Sandwich\": 4,\n",
    "    \"Salad\": 5,\n",
    "    \"Cake\": 3,\n",
    "    \"Cookie\": 1,\n",
    "    \"Smoothie\": 4,\n",
    "    \"Juice\": 3\n",
    "}\n",
    "\n",
    "# fill the missing Price Per Unit values where Item is not null\n",
    "df1['Price Per Unit'] = df1['Price Per Unit'].fillna(df1['Item'].map(menu))"
   ]
  },
  {
   "cell_type": "code",
   "execution_count": 128,
   "metadata": {},
   "outputs": [],
   "source": [
    "# create a function to fill missing values in the numeric columns\n",
    "def fill_NaN(df1):\n",
    "    # fill missing values in Total Spent by Price Per Unit * Quantity\n",
    "    condition = df1['Price Per Unit'].notnull() & df1['Quantity'].notnull()\n",
    "    df1.loc[condition, 'Total Spent'] = df1.loc[condition, 'Price Per Unit'] * df1.loc[condition, 'Quantity']\n",
    "\n",
    "    #fill missing values in Quantity by Total Spent / Price Per Unit\n",
    "    condition = df1['Total Spent'].notnull() & df1['Quantity'].notnull()\n",
    "    df1.loc[condition, 'Price Per Unit'] = df1.loc[condition, 'Total Spent'] / df1.loc[condition, 'Quantity']\n",
    "\n",
    "    #fill missing values in Price Per Unit by Total Spent / Quantity\n",
    "    condition = df1['Total Spent'].notnull() & df1['Price Per Unit'].notnull()\n",
    "    df1.loc[condition, 'Quantity'] = df1.loc[condition, 'Total Spent'] / df1.loc[condition, 'Price Per Unit']\n",
    "\n",
    "    return df1\n",
    "\n",
    "df1 = fill_NaN(df1)"
   ]
  },
  {
   "cell_type": "code",
   "execution_count": 129,
   "metadata": {},
   "outputs": [],
   "source": [
    "# create an items dictionary that maps the menu prices in reverse\n",
    "items = {\n",
    "    2: \"Coffee\",\n",
    "    1.5: \"Tea\",\n",
    "    4 : \"Sandwich\",\n",
    "    5 : \"Salad\",\n",
    "    3 : \"Cake\",\n",
    "    1 : \"Cookie\",\n",
    "    4 : \"Smoothie\",\n",
    "    3 : \"Juice\"\n",
    "}\n",
    "\n",
    "# fill the missing Item where Price Per Unit is not null\n",
    "df1['Item'] = df1['Item'].fillna(df1['Price Per Unit'].map(items))"
   ]
  },
  {
   "cell_type": "code",
   "execution_count": 130,
   "metadata": {},
   "outputs": [],
   "source": [
    "# fill the remaining missing values in Item by the mode\n",
    "df1['Item'] = df1['Item'].fillna(df1['Item'].mode()[0])\n",
    "\n",
    "# fill the remaining missing values Price Per Unit with the known Item prices\n",
    "df1['Price Per Unit'] = df1['Price Per Unit'].fillna(df1['Item'].map(menu))"
   ]
  },
  {
   "cell_type": "code",
   "execution_count": 131,
   "metadata": {},
   "outputs": [
    {
     "name": "stderr",
     "output_type": "stream",
     "text": [
      "/var/folders/zm/8y1z6y9d5bb7wb7r7cp865540000gn/T/ipykernel_34245/3829078265.py:2: FutureWarning: The default of observed=False is deprecated and will be changed to True in a future version of pandas. Pass observed=False to retain current behavior or observed=True to adopt the future default and silence this warning.\n",
      "  df1['Quantity'] = df1['Quantity'].fillna(df1.groupby('Item')['Quantity'].transform('mean'))\n"
     ]
    }
   ],
   "source": [
    "# fill the re missing values in Quantity by the mean quantity of each Item\n",
    "df1['Quantity'] = df1['Quantity'].fillna(df1.groupby('Item')['Quantity'].transform('mean'))"
   ]
  },
  {
   "cell_type": "code",
   "execution_count": 132,
   "metadata": {},
   "outputs": [],
   "source": [
    "# run the function again to fill the missing values in Total Spent\n",
    "df1 = fill_NaN(df1)"
   ]
  },
  {
   "cell_type": "code",
   "execution_count": 133,
   "metadata": {},
   "outputs": [
    {
     "data": {
      "text/plain": [
       "Payment Method\n",
       "Digital Wallet    2291\n",
       "Credit Card       2273\n",
       "Cash              2258\n",
       "Name: count, dtype: int64"
      ]
     },
     "execution_count": 133,
     "metadata": {},
     "output_type": "execute_result"
    }
   ],
   "source": [
    "df1['Payment Method'].value_counts()"
   ]
  },
  {
   "cell_type": "code",
   "execution_count": 134,
   "metadata": {},
   "outputs": [],
   "source": [
    "# keep the distribution of 'Payment Method' since its relatively balanced\n",
    "\n",
    "# calculate the distribution of 'Payment Method'\n",
    "payment_proportions = df1['Payment Method'].value_counts(normalize=True)\n",
    "\n",
    "# assign missing values based on the distribution\n",
    "df1.loc[df1['Payment Method'].isna(), 'Payment Method'] = np.random.choice(\n",
    "    payment_proportions.index, \n",
    "    size=df1['Payment Method'].isna().sum(), \n",
    "    p=payment_proportions.values\n",
    ")"
   ]
  },
  {
   "cell_type": "code",
   "execution_count": 135,
   "metadata": {},
   "outputs": [],
   "source": [
    "# like in the previous step, we keep the distribution of 'Location' since it's also relatively balanced\n",
    "\n",
    "# calculate the distribution of 'Location'\n",
    "location_proportions = df1['Location'].value_counts(normalize=True)\n",
    "\n",
    "# assign missing values based on the distribution\n",
    "df1.loc[df1['Location'].isna(), 'Location'] = np.random.choice(\n",
    "    location_proportions.index, \n",
    "    size=df1['Location'].isna().sum(), \n",
    "    p=location_proportions.values\n",
    ")"
   ]
  },
  {
   "cell_type": "code",
   "execution_count": 136,
   "metadata": {},
   "outputs": [],
   "source": [
    "# fill the missing values in 'Transaction Date' with the following valid value\n",
    "df1['Transaction Date'] = df1['Transaction Date'].ffill()"
   ]
  },
  {
   "cell_type": "code",
   "execution_count": 137,
   "metadata": {},
   "outputs": [
    {
     "data": {
      "text/plain": [
       "Transaction ID      0\n",
       "Item                0\n",
       "Quantity            0\n",
       "Price Per Unit      0\n",
       "Total Spent         0\n",
       "Payment Method      0\n",
       "Location            0\n",
       "Transaction Date    0\n",
       "dtype: int64"
      ]
     },
     "execution_count": 137,
     "metadata": {},
     "output_type": "execute_result"
    }
   ],
   "source": [
    "df1.isnull().sum()"
   ]
  },
  {
   "cell_type": "markdown",
   "metadata": {},
   "source": [
    "The dataset now contains no missing values."
   ]
  },
  {
   "cell_type": "markdown",
   "metadata": {},
   "source": [
    "### Outliers"
   ]
  },
  {
   "cell_type": "code",
   "execution_count": 138,
   "metadata": {},
   "outputs": [
    {
     "data": {
      "image/png": "[encoded data removed]",
      "text/plain": [
       "<Figure size 1500x500 with 3 Axes>"
      ]
     },
     "metadata": {},
     "output_type": "display_data"
    }
   ],
   "source": [
    "# boxplots of numeric columns\n",
    "\n",
    "num_cols = ['Quantity', 'Price Per Unit', 'Total Spent']\n",
    "\n",
    "plt.figure(figsize=(15, 5))\n",
    "for i, column in enumerate(num_cols, 1):\n",
    "    plt.subplot(1, 3, i)\n",
    "    sns.boxplot(y=df1[column])\n",
    "    plt.title(f'Boxplot of {column}')\n",
    "plt.tight_layout()\n",
    "plt.show()"
   ]
  },
  {
   "cell_type": "code",
   "execution_count": 144,
   "metadata": {},
   "outputs": [
    {
     "name": "stdout",
     "output_type": "stream",
     "text": [
      "268\n"
     ]
    }
   ],
   "source": [
    "# calculate the quartiles for Total Spent\n",
    "Q1 = df1['Total Spent'].quantile(0.25)\n",
    "Q3 = df1['Total Spent'].quantile(0.75)\n",
    "IQR = Q3 - Q1\n",
    "\n",
    "# define the bounds\n",
    "lower_bound = Q1 - 1.5 * IQR\n",
    "upper_bound = Q3 + 1.5 * IQR\n",
    "\n",
    "# calculate the number of outliers\n",
    "outliers = (df1['Total Spent'] < (lower_bound)) | (df1['Total Spent'] > (upper_bound))\n",
    "num_outliers = outliers.sum()\n",
    "print(num_outliers)"
   ]
  },
  {
   "cell_type": "markdown",
   "metadata": {},
   "source": [
    "Although they may be considered outliers based on the IQR method, these are genuine entries that correspond to the product of Price Per Unit and Quantity."
   ]
  }
 ],
 "metadata": {
  "kernelspec": {
   "display_name": "ds",
   "language": "python",
   "name": "python3"
  },
  "language_info": {
   "codemirror_mode": {
    "name": "ipython",
    "version": 3
   },
   "file_extension": ".py",
   "mimetype": "text/x-python",
   "name": "python",
   "nbconvert_exporter": "python",
   "pygments_lexer": "ipython3",
   "version": "3.13.2"
  }
 },
 "nbformat": 4,
 "nbformat_minor": 2
}
