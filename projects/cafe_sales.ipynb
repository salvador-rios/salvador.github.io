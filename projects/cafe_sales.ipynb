{
 "cells": [
  {
   "cell_type": "markdown",
   "id": "8f0ba9c9",
   "metadata": {
    "papermill": {
     "duration": 0.007983,
     "end_time": "2025-03-11T12:34:17.211332",
     "exception": false,
     "start_time": "2025-03-11T12:34:17.203349",
     "status": "completed"
    },
    "tags": []
   },
   "source": [
    "# Overview\n",
    "The Dirty Cafe Sales dataset contains 10,000 rows across 8 columns of synthetic data representing sales transactions in a cafe. This dataset is intentionally \"dirty,\" with missing values, inconsistent data, and errors introduced to provide a realistic scenario for data cleaning and exploratory data analysis (EDA). It can be used to practice cleaning techniques, data wrangling, and feature engineering.\n",
    "\n",
    "We aim to handle all missing values and detect outliers to ensure the data is clean and suitable for model training."
   ]
  },
  {
   "cell_type": "code",
   "execution_count": 1,
   "id": "67ed0fe9",
   "metadata": {
    "execution": {
     "iopub.execute_input": "2025-03-11T12:34:17.227622Z",
     "iopub.status.busy": "2025-03-11T12:34:17.227102Z",
     "iopub.status.idle": "2025-03-11T12:34:20.367579Z",
     "shell.execute_reply": "2025-03-11T12:34:20.366397Z"
    },
    "papermill": {
     "duration": 3.150961,
     "end_time": "2025-03-11T12:34:20.369732",
     "exception": false,
     "start_time": "2025-03-11T12:34:17.218771",
     "status": "completed"
    },
    "tags": []
   },
   "outputs": [],
   "source": [
    "# import the libraries\n",
    "import pandas as pd\n",
    "import numpy as np\n",
    "\n",
    "import seaborn as sns\n",
    "import matplotlib.pyplot as plt\n",
    "\n",
    "sns.set_theme(style='white')\n",
    "np.random.seed(0)"
   ]
  },
  {
   "cell_type": "code",
   "execution_count": 2,
   "id": "14213634",
   "metadata": {
    "execution": {
     "iopub.execute_input": "2025-03-11T12:34:20.385854Z",
     "iopub.status.busy": "2025-03-11T12:34:20.385244Z",
     "iopub.status.idle": "2025-03-11T12:34:20.489879Z",
     "shell.execute_reply": "2025-03-11T12:34:20.488777Z"
    },
    "papermill": {
     "duration": 0.114619,
     "end_time": "2025-03-11T12:34:20.491838",
     "exception": false,
     "start_time": "2025-03-11T12:34:20.377219",
     "status": "completed"
    },
    "tags": []
   },
   "outputs": [
    {
     "data": {
      "text/html": [
       "<div>\n",
       "<style scoped>\n",
       "    .dataframe tbody tr th:only-of-type {\n",
       "        vertical-align: middle;\n",
       "    }\n",
       "\n",
       "    .dataframe tbody tr th {\n",
       "        vertical-align: top;\n",
       "    }\n",
       "\n",
       "    .dataframe thead th {\n",
       "        text-align: right;\n",
       "    }\n",
       "</style>\n",
       "<table border=\"1\" class=\"dataframe\">\n",
       "  <thead>\n",
       "    <tr style=\"text-align: right;\">\n",
       "      <th></th>\n",
       "      <th>Transaction ID</th>\n",
       "      <th>Item</th>\n",
       "      <th>Quantity</th>\n",
       "      <th>Price Per Unit</th>\n",
       "      <th>Total Spent</th>\n",
       "      <th>Payment Method</th>\n",
       "      <th>Location</th>\n",
       "      <th>Transaction Date</th>\n",
       "    </tr>\n",
       "  </thead>\n",
       "  <tbody>\n",
       "    <tr>\n",
       "      <th>0</th>\n",
       "      <td>TXN_1961373</td>\n",
       "      <td>Coffee</td>\n",
       "      <td>2</td>\n",
       "      <td>2.0</td>\n",
       "      <td>4.0</td>\n",
       "      <td>Credit Card</td>\n",
       "      <td>Takeaway</td>\n",
       "      <td>2023-09-08</td>\n",
       "    </tr>\n",
       "    <tr>\n",
       "      <th>1</th>\n",
       "      <td>TXN_4977031</td>\n",
       "      <td>Cake</td>\n",
       "      <td>4</td>\n",
       "      <td>3.0</td>\n",
       "      <td>12.0</td>\n",
       "      <td>Cash</td>\n",
       "      <td>In-store</td>\n",
       "      <td>2023-05-16</td>\n",
       "    </tr>\n",
       "    <tr>\n",
       "      <th>2</th>\n",
       "      <td>TXN_4271903</td>\n",
       "      <td>Cookie</td>\n",
       "      <td>4</td>\n",
       "      <td>1.0</td>\n",
       "      <td>ERROR</td>\n",
       "      <td>Credit Card</td>\n",
       "      <td>In-store</td>\n",
       "      <td>2023-07-19</td>\n",
       "    </tr>\n",
       "    <tr>\n",
       "      <th>3</th>\n",
       "      <td>TXN_7034554</td>\n",
       "      <td>Salad</td>\n",
       "      <td>2</td>\n",
       "      <td>5.0</td>\n",
       "      <td>10.0</td>\n",
       "      <td>UNKNOWN</td>\n",
       "      <td>UNKNOWN</td>\n",
       "      <td>2023-04-27</td>\n",
       "    </tr>\n",
       "    <tr>\n",
       "      <th>4</th>\n",
       "      <td>TXN_3160411</td>\n",
       "      <td>Coffee</td>\n",
       "      <td>2</td>\n",
       "      <td>2.0</td>\n",
       "      <td>4.0</td>\n",
       "      <td>Digital Wallet</td>\n",
       "      <td>In-store</td>\n",
       "      <td>2023-06-11</td>\n",
       "    </tr>\n",
       "  </tbody>\n",
       "</table>\n",
       "</div>"
      ],
      "text/plain": [
       "  Transaction ID    Item Quantity Price Per Unit Total Spent  Payment Method  \\\n",
       "0    TXN_1961373  Coffee        2            2.0         4.0     Credit Card   \n",
       "1    TXN_4977031    Cake        4            3.0        12.0            Cash   \n",
       "2    TXN_4271903  Cookie        4            1.0       ERROR     Credit Card   \n",
       "3    TXN_7034554   Salad        2            5.0        10.0         UNKNOWN   \n",
       "4    TXN_3160411  Coffee        2            2.0         4.0  Digital Wallet   \n",
       "\n",
       "   Location Transaction Date  \n",
       "0  Takeaway       2023-09-08  \n",
       "1  In-store       2023-05-16  \n",
       "2  In-store       2023-07-19  \n",
       "3   UNKNOWN       2023-04-27  \n",
       "4  In-store       2023-06-11  "
      ]
     },
     "execution_count": 2,
     "metadata": {},
     "output_type": "execute_result"
    }
   ],
   "source": [
    "# load the data\n",
    "df = pd.read_csv('/kaggle/input/cafe-sales-dirty-data-for-cleaning-training/dirty_cafe_sales.csv')\n",
    "df.head()"
   ]
  },
  {
   "cell_type": "markdown",
   "id": "0896931d",
   "metadata": {
    "papermill": {
     "duration": 0.006875,
     "end_time": "2025-03-11T12:34:20.506152",
     "exception": false,
     "start_time": "2025-03-11T12:34:20.499277",
     "status": "completed"
    },
    "tags": []
   },
   "source": [
    "# EDA"
   ]
  },
  {
   "cell_type": "code",
   "execution_count": 3,
   "id": "7f724ff0",
   "metadata": {
    "execution": {
     "iopub.execute_input": "2025-03-11T12:34:20.521994Z",
     "iopub.status.busy": "2025-03-11T12:34:20.521588Z",
     "iopub.status.idle": "2025-03-11T12:34:20.557167Z",
     "shell.execute_reply": "2025-03-11T12:34:20.555504Z"
    },
    "papermill": {
     "duration": 0.046025,
     "end_time": "2025-03-11T12:34:20.559324",
     "exception": false,
     "start_time": "2025-03-11T12:34:20.513299",
     "status": "completed"
    },
    "tags": []
   },
   "outputs": [
    {
     "name": "stdout",
     "output_type": "stream",
     "text": [
      "<class 'pandas.core.frame.DataFrame'>\n",
      "RangeIndex: 10000 entries, 0 to 9999\n",
      "Data columns (total 8 columns):\n",
      " #   Column            Non-Null Count  Dtype \n",
      "---  ------            --------------  ----- \n",
      " 0   Transaction ID    10000 non-null  object\n",
      " 1   Item              9667 non-null   object\n",
      " 2   Quantity          9862 non-null   object\n",
      " 3   Price Per Unit    9821 non-null   object\n",
      " 4   Total Spent       9827 non-null   object\n",
      " 5   Payment Method    7421 non-null   object\n",
      " 6   Location          6735 non-null   object\n",
      " 7   Transaction Date  9841 non-null   object\n",
      "dtypes: object(8)\n",
      "memory usage: 625.1+ KB\n"
     ]
    }
   ],
   "source": [
    "# check the data types of the columns\n",
    "df.info()"
   ]
  },
  {
   "cell_type": "code",
   "execution_count": 4,
   "id": "0b283967",
   "metadata": {
    "execution": {
     "iopub.execute_input": "2025-03-11T12:34:20.576111Z",
     "iopub.status.busy": "2025-03-11T12:34:20.575759Z",
     "iopub.status.idle": "2025-03-11T12:34:20.609484Z",
     "shell.execute_reply": "2025-03-11T12:34:20.608409Z"
    },
    "papermill": {
     "duration": 0.043623,
     "end_time": "2025-03-11T12:34:20.611192",
     "exception": false,
     "start_time": "2025-03-11T12:34:20.567569",
     "status": "completed"
    },
    "tags": []
   },
   "outputs": [
    {
     "data": {
      "text/html": [
       "<div>\n",
       "<style scoped>\n",
       "    .dataframe tbody tr th:only-of-type {\n",
       "        vertical-align: middle;\n",
       "    }\n",
       "\n",
       "    .dataframe tbody tr th {\n",
       "        vertical-align: top;\n",
       "    }\n",
       "\n",
       "    .dataframe thead th {\n",
       "        text-align: right;\n",
       "    }\n",
       "</style>\n",
       "<table border=\"1\" class=\"dataframe\">\n",
       "  <thead>\n",
       "    <tr style=\"text-align: right;\">\n",
       "      <th></th>\n",
       "      <th>Transaction ID</th>\n",
       "      <th>Item</th>\n",
       "      <th>Quantity</th>\n",
       "      <th>Price Per Unit</th>\n",
       "      <th>Total Spent</th>\n",
       "      <th>Payment Method</th>\n",
       "      <th>Location</th>\n",
       "      <th>Transaction Date</th>\n",
       "    </tr>\n",
       "  </thead>\n",
       "  <tbody>\n",
       "    <tr>\n",
       "      <th>count</th>\n",
       "      <td>10000</td>\n",
       "      <td>9667</td>\n",
       "      <td>9862</td>\n",
       "      <td>9821</td>\n",
       "      <td>9827</td>\n",
       "      <td>7421</td>\n",
       "      <td>6735</td>\n",
       "      <td>9841</td>\n",
       "    </tr>\n",
       "    <tr>\n",
       "      <th>unique</th>\n",
       "      <td>10000</td>\n",
       "      <td>10</td>\n",
       "      <td>7</td>\n",
       "      <td>8</td>\n",
       "      <td>19</td>\n",
       "      <td>5</td>\n",
       "      <td>4</td>\n",
       "      <td>367</td>\n",
       "    </tr>\n",
       "    <tr>\n",
       "      <th>top</th>\n",
       "      <td>TXN_1961373</td>\n",
       "      <td>Juice</td>\n",
       "      <td>5</td>\n",
       "      <td>3.0</td>\n",
       "      <td>6.0</td>\n",
       "      <td>Digital Wallet</td>\n",
       "      <td>Takeaway</td>\n",
       "      <td>UNKNOWN</td>\n",
       "    </tr>\n",
       "    <tr>\n",
       "      <th>freq</th>\n",
       "      <td>1</td>\n",
       "      <td>1171</td>\n",
       "      <td>2013</td>\n",
       "      <td>2429</td>\n",
       "      <td>979</td>\n",
       "      <td>2291</td>\n",
       "      <td>3022</td>\n",
       "      <td>159</td>\n",
       "    </tr>\n",
       "  </tbody>\n",
       "</table>\n",
       "</div>"
      ],
      "text/plain": [
       "       Transaction ID   Item Quantity Price Per Unit Total Spent  \\\n",
       "count           10000   9667     9862           9821        9827   \n",
       "unique          10000     10        7              8          19   \n",
       "top       TXN_1961373  Juice        5            3.0         6.0   \n",
       "freq                1   1171     2013           2429         979   \n",
       "\n",
       "        Payment Method  Location Transaction Date  \n",
       "count             7421      6735             9841  \n",
       "unique               5         4              367  \n",
       "top     Digital Wallet  Takeaway          UNKNOWN  \n",
       "freq              2291      3022              159  "
      ]
     },
     "execution_count": 4,
     "metadata": {},
     "output_type": "execute_result"
    }
   ],
   "source": [
    "# get an overview of the descriptives\n",
    "df.describe()"
   ]
  },
  {
   "cell_type": "code",
   "execution_count": 5,
   "id": "3da3043d",
   "metadata": {
    "execution": {
     "iopub.execute_input": "2025-03-11T12:34:20.627517Z",
     "iopub.status.busy": "2025-03-11T12:34:20.627101Z",
     "iopub.status.idle": "2025-03-11T12:34:20.638842Z",
     "shell.execute_reply": "2025-03-11T12:34:20.637958Z"
    },
    "papermill": {
     "duration": 0.021625,
     "end_time": "2025-03-11T12:34:20.640524",
     "exception": false,
     "start_time": "2025-03-11T12:34:20.618899",
     "status": "completed"
    },
    "tags": []
   },
   "outputs": [
    {
     "data": {
      "text/plain": [
       "Transaction ID         0\n",
       "Item                 333\n",
       "Quantity             138\n",
       "Price Per Unit       179\n",
       "Total Spent          173\n",
       "Payment Method      2579\n",
       "Location            3265\n",
       "Transaction Date     159\n",
       "dtype: int64"
      ]
     },
     "execution_count": 5,
     "metadata": {},
     "output_type": "execute_result"
    }
   ],
   "source": [
    "# check for missing values\n",
    "df.isnull().sum()"
   ]
  },
  {
   "cell_type": "code",
   "execution_count": 6,
   "id": "fc6c1b01",
   "metadata": {
    "execution": {
     "iopub.execute_input": "2025-03-11T12:34:20.657034Z",
     "iopub.status.busy": "2025-03-11T12:34:20.656703Z",
     "iopub.status.idle": "2025-03-11T12:34:20.670160Z",
     "shell.execute_reply": "2025-03-11T12:34:20.668883Z"
    },
    "papermill": {
     "duration": 0.023993,
     "end_time": "2025-03-11T12:34:20.672117",
     "exception": false,
     "start_time": "2025-03-11T12:34:20.648124",
     "status": "completed"
    },
    "tags": []
   },
   "outputs": [
    {
     "data": {
      "text/plain": [
       "0"
      ]
     },
     "execution_count": 6,
     "metadata": {},
     "output_type": "execute_result"
    }
   ],
   "source": [
    "# check for duplicates\n",
    "df.duplicated().sum()"
   ]
  },
  {
   "cell_type": "markdown",
   "id": "9cf4567c",
   "metadata": {
    "papermill": {
     "duration": 0.007556,
     "end_time": "2025-03-11T12:34:20.687575",
     "exception": false,
     "start_time": "2025-03-11T12:34:20.680019",
     "status": "completed"
    },
    "tags": []
   },
   "source": [
    "# Preprocessing\n",
    "### Handling missing values"
   ]
  },
  {
   "cell_type": "code",
   "execution_count": 7,
   "id": "70e3d936",
   "metadata": {
    "execution": {
     "iopub.execute_input": "2025-03-11T12:34:20.704450Z",
     "iopub.status.busy": "2025-03-11T12:34:20.704064Z",
     "iopub.status.idle": "2025-03-11T12:34:20.708955Z",
     "shell.execute_reply": "2025-03-11T12:34:20.707876Z"
    },
    "papermill": {
     "duration": 0.015481,
     "end_time": "2025-03-11T12:34:20.710692",
     "exception": false,
     "start_time": "2025-03-11T12:34:20.695211",
     "status": "completed"
    },
    "tags": []
   },
   "outputs": [],
   "source": [
    "# make a copy of the dataframe\n",
    "df1 = df.copy()"
   ]
  },
  {
   "cell_type": "code",
   "execution_count": 8,
   "id": "45602654",
   "metadata": {
    "execution": {
     "iopub.execute_input": "2025-03-11T12:34:20.727611Z",
     "iopub.status.busy": "2025-03-11T12:34:20.727161Z",
     "iopub.status.idle": "2025-03-11T12:34:20.869254Z",
     "shell.execute_reply": "2025-03-11T12:34:20.868274Z"
    },
    "papermill": {
     "duration": 0.152647,
     "end_time": "2025-03-11T12:34:20.871153",
     "exception": false,
     "start_time": "2025-03-11T12:34:20.718506",
     "status": "completed"
    },
    "tags": []
   },
   "outputs": [],
   "source": [
    "# replace \"ERROR\" and \"UNKNOWN\" with NaN for easier handling later on\n",
    "df1 = df1.replace([\"ERROR\", \"UNKNOWN\"], np.nan, regex=True)"
   ]
  },
  {
   "cell_type": "code",
   "execution_count": 9,
   "id": "b9ee3a75",
   "metadata": {
    "execution": {
     "iopub.execute_input": "2025-03-11T12:34:20.892551Z",
     "iopub.status.busy": "2025-03-11T12:34:20.892143Z",
     "iopub.status.idle": "2025-03-11T12:34:20.926121Z",
     "shell.execute_reply": "2025-03-11T12:34:20.924899Z"
    },
    "papermill": {
     "duration": 0.047325,
     "end_time": "2025-03-11T12:34:20.928022",
     "exception": false,
     "start_time": "2025-03-11T12:34:20.880697",
     "status": "completed"
    },
    "tags": []
   },
   "outputs": [],
   "source": [
    "# assign new data types to the different columns\n",
    "\n",
    "# convert to numeric\n",
    "df1[['Price Per Unit', 'Quantity', 'Total Spent']] = df1[['Price Per Unit', 'Quantity', 'Total Spent']].apply(pd.to_numeric, errors='coerce')\n",
    "\n",
    "# convert to category\n",
    "df1[['Item', 'Location', 'Payment Method']] = df1[['Item', 'Location', 'Payment Method']].astype('category')\n",
    "\n",
    "# convert to datetime\n",
    "df1['Transaction Date'] = pd.to_datetime(df1['Transaction Date'], errors='coerce')"
   ]
  },
  {
   "cell_type": "code",
   "execution_count": 10,
   "id": "2f8fab9c",
   "metadata": {
    "execution": {
     "iopub.execute_input": "2025-03-11T12:34:20.944570Z",
     "iopub.status.busy": "2025-03-11T12:34:20.944156Z",
     "iopub.status.idle": "2025-03-11T12:34:20.953138Z",
     "shell.execute_reply": "2025-03-11T12:34:20.952087Z"
    },
    "papermill": {
     "duration": 0.019287,
     "end_time": "2025-03-11T12:34:20.954888",
     "exception": false,
     "start_time": "2025-03-11T12:34:20.935601",
     "status": "completed"
    },
    "tags": []
   },
   "outputs": [
    {
     "data": {
      "text/plain": [
       "12.6025"
      ]
     },
     "execution_count": 10,
     "metadata": {},
     "output_type": "execute_result"
    }
   ],
   "source": [
    "# check what percentage of the data is missing\n",
    "total_null = df1.isnull().sum().sum()\n",
    "total_cells = np.prod(df1.shape)\n",
    "percentage_null = (total_null / total_cells) * 100\n",
    "percentage_null"
   ]
  },
  {
   "cell_type": "markdown",
   "id": "6349701e",
   "metadata": {
    "papermill": {
     "duration": 0.007217,
     "end_time": "2025-03-11T12:34:20.969941",
     "exception": false,
     "start_time": "2025-03-11T12:34:20.962724",
     "status": "completed"
    },
    "tags": []
   },
   "source": [
    "We'll use the dataset-provided menu to assign the known **Price Per Unit** to its corresponding **Item** where missing."
   ]
  },
  {
   "cell_type": "code",
   "execution_count": 11,
   "id": "6dd0cec7",
   "metadata": {
    "execution": {
     "iopub.execute_input": "2025-03-11T12:34:20.986737Z",
     "iopub.status.busy": "2025-03-11T12:34:20.986273Z",
     "iopub.status.idle": "2025-03-11T12:34:20.995613Z",
     "shell.execute_reply": "2025-03-11T12:34:20.994515Z"
    },
    "papermill": {
     "duration": 0.020004,
     "end_time": "2025-03-11T12:34:20.997572",
     "exception": false,
     "start_time": "2025-03-11T12:34:20.977568",
     "status": "completed"
    },
    "tags": []
   },
   "outputs": [],
   "source": [
    "# create a dictionary with the known menu prices\n",
    "menu = {\n",
    "    \"Coffee\": 2,\n",
    "    \"Tea\": 1.5,\n",
    "    \"Sandwich\": 4,\n",
    "    \"Salad\": 5,\n",
    "    \"Cake\": 3,\n",
    "    \"Cookie\": 1,\n",
    "    \"Smoothie\": 4,\n",
    "    \"Juice\": 3\n",
    "}\n",
    "\n",
    "# fill the missing Price Per Unit values where Item is not null\n",
    "df1['Price Per Unit'] = df1['Price Per Unit'].fillna(df1['Item'].map(menu))"
   ]
  },
  {
   "cell_type": "markdown",
   "id": "3e95e092",
   "metadata": {
    "papermill": {
     "duration": 0.007461,
     "end_time": "2025-03-11T12:34:21.012936",
     "exception": false,
     "start_time": "2025-03-11T12:34:21.005475",
     "status": "completed"
    },
    "tags": []
   },
   "source": [
    "Now, we'll reverse the mapping, using **Price Per Unit** as the key and **Item** names as the values."
   ]
  },
  {
   "cell_type": "code",
   "execution_count": 12,
   "id": "2b27a6bb",
   "metadata": {
    "execution": {
     "iopub.execute_input": "2025-03-11T12:34:21.030181Z",
     "iopub.status.busy": "2025-03-11T12:34:21.029793Z",
     "iopub.status.idle": "2025-03-11T12:34:21.039295Z",
     "shell.execute_reply": "2025-03-11T12:34:21.038311Z"
    },
    "papermill": {
     "duration": 0.020359,
     "end_time": "2025-03-11T12:34:21.041320",
     "exception": false,
     "start_time": "2025-03-11T12:34:21.020961",
     "status": "completed"
    },
    "tags": []
   },
   "outputs": [],
   "source": [
    "# create an items dictionary that maps the menu prices in reverse\n",
    "items = {\n",
    "    2: \"Coffee\",\n",
    "    1.5: \"Tea\",\n",
    "    4 : \"Sandwich\",\n",
    "    5 : \"Salad\",\n",
    "    3 : \"Cake\",\n",
    "    1 : \"Cookie\",\n",
    "    4 : \"Smoothie\",\n",
    "    3 : \"Juice\"\n",
    "}\n",
    "\n",
    "# fill the missing Item where Price Per Unit is not null\n",
    "df1['Item'] = df1['Item'].fillna(df1['Price Per Unit'].map(items))"
   ]
  },
  {
   "cell_type": "markdown",
   "id": "228d06aa",
   "metadata": {
    "papermill": {
     "duration": 0.007231,
     "end_time": "2025-03-11T12:34:21.056339",
     "exception": false,
     "start_time": "2025-03-11T12:34:21.049108",
     "status": "completed"
    },
    "tags": []
   },
   "source": [
    "The columns **Price Per Unit**, **Quantity**, and **Total Spent** are mathematically related:\n",
    "\n",
    "Total Spent = Price Per Unit × Quantity\n",
    "\n",
    "Price Per Unit = Total Spent ÷ Quantity\n",
    "\n",
    "Quantity = Total Spent ÷ Price Per Unit\n",
    "\n",
    "We'll create a function to fill missing values by leveraging these relationships, provided two of the three values are available in a given row."
   ]
  },
  {
   "cell_type": "code",
   "execution_count": 13,
   "id": "cfb01bb8",
   "metadata": {
    "execution": {
     "iopub.execute_input": "2025-03-11T12:34:21.073085Z",
     "iopub.status.busy": "2025-03-11T12:34:21.072719Z",
     "iopub.status.idle": "2025-03-11T12:34:21.110229Z",
     "shell.execute_reply": "2025-03-11T12:34:21.109100Z"
    },
    "papermill": {
     "duration": 0.048419,
     "end_time": "2025-03-11T12:34:21.112257",
     "exception": false,
     "start_time": "2025-03-11T12:34:21.063838",
     "status": "completed"
    },
    "tags": []
   },
   "outputs": [],
   "source": [
    "# create a function to fill missing values in the numeric columns\n",
    "def fill_NaN(df1):\n",
    "    # fill missing values in Total Spent by Price Per Unit * Quantity\n",
    "    condition = df1['Price Per Unit'].notnull() & df1['Quantity'].notnull()\n",
    "    df1.loc[condition, 'Total Spent'] = df1.loc[condition, 'Price Per Unit'] * df1.loc[condition, 'Quantity']\n",
    "\n",
    "    #fill missing values in Quantity by Total Spent / Price Per Unit\n",
    "    condition = df1['Total Spent'].notnull() & df1['Quantity'].notnull()\n",
    "    df1.loc[condition, 'Price Per Unit'] = df1.loc[condition, 'Total Spent'] / df1.loc[condition, 'Quantity']\n",
    "\n",
    "    #fill missing values in Price Per Unit by Total Spent / Quantity\n",
    "    condition = df1['Total Spent'].notnull() & df1['Price Per Unit'].notnull()\n",
    "    df1.loc[condition, 'Quantity'] = df1.loc[condition, 'Total Spent'] / df1.loc[condition, 'Price Per Unit']\n",
    "\n",
    "    return df1\n",
    "\n",
    "df1 = fill_NaN(df1)"
   ]
  },
  {
   "cell_type": "code",
   "execution_count": 14,
   "id": "014f8690",
   "metadata": {
    "execution": {
     "iopub.execute_input": "2025-03-11T12:34:21.129268Z",
     "iopub.status.busy": "2025-03-11T12:34:21.128871Z",
     "iopub.status.idle": "2025-03-11T12:34:21.139536Z",
     "shell.execute_reply": "2025-03-11T12:34:21.138166Z"
    },
    "papermill": {
     "duration": 0.021026,
     "end_time": "2025-03-11T12:34:21.141493",
     "exception": false,
     "start_time": "2025-03-11T12:34:21.120467",
     "status": "completed"
    },
    "tags": []
   },
   "outputs": [],
   "source": [
    "# fill the remaining missing values in Item by the mode\n",
    "df1['Item'] = df1['Item'].fillna(df1['Item'].mode()[0])\n",
    "\n",
    "# fill the remaining missing values Price Per Unit with the known Item prices\n",
    "df1['Price Per Unit'] = df1['Price Per Unit'].fillna(df1['Item'].map(menu))"
   ]
  },
  {
   "cell_type": "code",
   "execution_count": 15,
   "id": "c20a5b8d",
   "metadata": {
    "execution": {
     "iopub.execute_input": "2025-03-11T12:34:21.158339Z",
     "iopub.status.busy": "2025-03-11T12:34:21.157983Z",
     "iopub.status.idle": "2025-03-11T12:34:21.167315Z",
     "shell.execute_reply": "2025-03-11T12:34:21.166133Z"
    },
    "papermill": {
     "duration": 0.019823,
     "end_time": "2025-03-11T12:34:21.169233",
     "exception": false,
     "start_time": "2025-03-11T12:34:21.149410",
     "status": "completed"
    },
    "tags": []
   },
   "outputs": [],
   "source": [
    "# fill the re missing values in Quantity by the mean quantity of each Item\n",
    "df1['Quantity'] = df1['Quantity'].fillna(df1.groupby('Item', observed=False)['Quantity'].transform('mean'))"
   ]
  },
  {
   "cell_type": "code",
   "execution_count": 16,
   "id": "b5964a84",
   "metadata": {
    "execution": {
     "iopub.execute_input": "2025-03-11T12:34:21.186397Z",
     "iopub.status.busy": "2025-03-11T12:34:21.185855Z",
     "iopub.status.idle": "2025-03-11T12:34:21.198168Z",
     "shell.execute_reply": "2025-03-11T12:34:21.196866Z"
    },
    "papermill": {
     "duration": 0.023005,
     "end_time": "2025-03-11T12:34:21.200118",
     "exception": false,
     "start_time": "2025-03-11T12:34:21.177113",
     "status": "completed"
    },
    "tags": []
   },
   "outputs": [],
   "source": [
    "# run the function again to fill the missing values in Total Spent\n",
    "df1 = fill_NaN(df1)"
   ]
  },
  {
   "cell_type": "code",
   "execution_count": 17,
   "id": "731934dc",
   "metadata": {
    "execution": {
     "iopub.execute_input": "2025-03-11T12:34:21.217628Z",
     "iopub.status.busy": "2025-03-11T12:34:21.217169Z",
     "iopub.status.idle": "2025-03-11T12:34:21.227217Z",
     "shell.execute_reply": "2025-03-11T12:34:21.226103Z"
    },
    "papermill": {
     "duration": 0.020669,
     "end_time": "2025-03-11T12:34:21.229008",
     "exception": false,
     "start_time": "2025-03-11T12:34:21.208339",
     "status": "completed"
    },
    "tags": []
   },
   "outputs": [
    {
     "data": {
      "text/plain": [
       "Transaction ID         0\n",
       "Item                   0\n",
       "Quantity               0\n",
       "Price Per Unit         0\n",
       "Total Spent            0\n",
       "Payment Method      3178\n",
       "Location            3961\n",
       "Transaction Date     460\n",
       "dtype: int64"
      ]
     },
     "execution_count": 17,
     "metadata": {},
     "output_type": "execute_result"
    }
   ],
   "source": [
    "# check that all missing values in Item, Quantity, Price Per Unit, and Total Spent have been handled\n",
    "df1.isnull().sum()"
   ]
  },
  {
   "cell_type": "markdown",
   "id": "898f0f79",
   "metadata": {
    "papermill": {
     "duration": 0.007394,
     "end_time": "2025-03-11T12:34:21.244343",
     "exception": false,
     "start_time": "2025-03-11T12:34:21.236949",
     "status": "completed"
    },
    "tags": []
   },
   "source": [
    "The **Payment Method** and **Location** columns do not appear to show a significant correlation with the other columns (code not shown here).\n",
    "\n",
    "Both columns seem to be fairly balanced (see below), so when imputing their missing values, we will aim to preserve this balance."
   ]
  },
  {
   "cell_type": "code",
   "execution_count": 18,
   "id": "d510ddbc",
   "metadata": {
    "execution": {
     "iopub.execute_input": "2025-03-11T12:34:21.261207Z",
     "iopub.status.busy": "2025-03-11T12:34:21.260804Z",
     "iopub.status.idle": "2025-03-11T12:34:21.269735Z",
     "shell.execute_reply": "2025-03-11T12:34:21.268734Z"
    },
    "papermill": {
     "duration": 0.01973,
     "end_time": "2025-03-11T12:34:21.271728",
     "exception": false,
     "start_time": "2025-03-11T12:34:21.251998",
     "status": "completed"
    },
    "tags": []
   },
   "outputs": [
    {
     "data": {
      "text/plain": [
       "Payment Method\n",
       "Digital Wallet    2291\n",
       "Credit Card       2273\n",
       "Cash              2258\n",
       "Name: count, dtype: int64"
      ]
     },
     "execution_count": 18,
     "metadata": {},
     "output_type": "execute_result"
    }
   ],
   "source": [
    "# check the value counts in Payment Method\n",
    "df1['Payment Method'].value_counts()"
   ]
  },
  {
   "cell_type": "code",
   "execution_count": 19,
   "id": "52c56a60",
   "metadata": {
    "execution": {
     "iopub.execute_input": "2025-03-11T12:34:21.289245Z",
     "iopub.status.busy": "2025-03-11T12:34:21.288839Z",
     "iopub.status.idle": "2025-03-11T12:34:21.296999Z",
     "shell.execute_reply": "2025-03-11T12:34:21.296099Z"
    },
    "papermill": {
     "duration": 0.018685,
     "end_time": "2025-03-11T12:34:21.298623",
     "exception": false,
     "start_time": "2025-03-11T12:34:21.279938",
     "status": "completed"
    },
    "tags": []
   },
   "outputs": [
    {
     "data": {
      "text/plain": [
       "Location\n",
       "Takeaway    3022\n",
       "In-store    3017\n",
       "Name: count, dtype: int64"
      ]
     },
     "execution_count": 19,
     "metadata": {},
     "output_type": "execute_result"
    }
   ],
   "source": [
    "# check the value counts in Location\n",
    "df1['Location'].value_counts()"
   ]
  },
  {
   "cell_type": "code",
   "execution_count": 20,
   "id": "cc22c964",
   "metadata": {
    "execution": {
     "iopub.execute_input": "2025-03-11T12:34:21.316217Z",
     "iopub.status.busy": "2025-03-11T12:34:21.315856Z",
     "iopub.status.idle": "2025-03-11T12:34:21.324632Z",
     "shell.execute_reply": "2025-03-11T12:34:21.323471Z"
    },
    "papermill": {
     "duration": 0.020003,
     "end_time": "2025-03-11T12:34:21.326725",
     "exception": false,
     "start_time": "2025-03-11T12:34:21.306722",
     "status": "completed"
    },
    "tags": []
   },
   "outputs": [],
   "source": [
    "# calculate the distribution of 'Payment Method'\n",
    "payment_proportions = df1['Payment Method'].value_counts(normalize=True)\n",
    "\n",
    "# assign missing values based on the distribution\n",
    "df1.loc[df1['Payment Method'].isna(), 'Payment Method'] = np.random.choice(\n",
    "    payment_proportions.index, \n",
    "    size=df1['Payment Method'].isna().sum(), \n",
    "    p=payment_proportions.values\n",
    ")"
   ]
  },
  {
   "cell_type": "code",
   "execution_count": 21,
   "id": "09637266",
   "metadata": {
    "execution": {
     "iopub.execute_input": "2025-03-11T12:34:21.344723Z",
     "iopub.status.busy": "2025-03-11T12:34:21.344341Z",
     "iopub.status.idle": "2025-03-11T12:34:21.353355Z",
     "shell.execute_reply": "2025-03-11T12:34:21.352218Z"
    },
    "papermill": {
     "duration": 0.020381,
     "end_time": "2025-03-11T12:34:21.355355",
     "exception": false,
     "start_time": "2025-03-11T12:34:21.334974",
     "status": "completed"
    },
    "tags": []
   },
   "outputs": [],
   "source": [
    "# calculate the distribution of 'Location'\n",
    "location_proportions = df1['Location'].value_counts(normalize=True)\n",
    "\n",
    "# assign missing values based on the distribution\n",
    "df1.loc[df1['Location'].isna(), 'Location'] = np.random.choice(\n",
    "    location_proportions.index, \n",
    "    size=df1['Location'].isna().sum(), \n",
    "    p=location_proportions.values\n",
    ")"
   ]
  },
  {
   "cell_type": "code",
   "execution_count": 22,
   "id": "b4e0a201",
   "metadata": {
    "execution": {
     "iopub.execute_input": "2025-03-11T12:34:21.373141Z",
     "iopub.status.busy": "2025-03-11T12:34:21.372668Z",
     "iopub.status.idle": "2025-03-11T12:34:21.382073Z",
     "shell.execute_reply": "2025-03-11T12:34:21.380998Z"
    },
    "papermill": {
     "duration": 0.020035,
     "end_time": "2025-03-11T12:34:21.383871",
     "exception": false,
     "start_time": "2025-03-11T12:34:21.363836",
     "status": "completed"
    },
    "tags": []
   },
   "outputs": [
    {
     "data": {
      "text/plain": [
       "Transaction ID        0\n",
       "Item                  0\n",
       "Quantity              0\n",
       "Price Per Unit        0\n",
       "Total Spent           0\n",
       "Payment Method        0\n",
       "Location              0\n",
       "Transaction Date    460\n",
       "dtype: int64"
      ]
     },
     "execution_count": 22,
     "metadata": {},
     "output_type": "execute_result"
    }
   ],
   "source": [
    "# check that all missing values in Payment Method and Location have been handled\n",
    "df1.isnull().sum()"
   ]
  },
  {
   "cell_type": "markdown",
   "id": "357175b7",
   "metadata": {
    "papermill": {
     "duration": 0.00769,
     "end_time": "2025-03-11T12:34:21.399680",
     "exception": false,
     "start_time": "2025-03-11T12:34:21.391990",
     "status": "completed"
    },
    "tags": []
   },
   "source": [
    "There are several ways we could handle the missing values in the **Transaction Date** column. One approach would be to examine the distribution of dates and randomly impute missing values based on this distribution, similar to how we handled the **Payment Method** and **Location** columns.\n",
    "\n",
    "However, for simplicity, we will impute the missing values using the most recent valid date, applying forward fill."
   ]
  },
  {
   "cell_type": "code",
   "execution_count": 23,
   "id": "17b99531",
   "metadata": {
    "execution": {
     "iopub.execute_input": "2025-03-11T12:34:21.416978Z",
     "iopub.status.busy": "2025-03-11T12:34:21.416607Z",
     "iopub.status.idle": "2025-03-11T12:34:21.425712Z",
     "shell.execute_reply": "2025-03-11T12:34:21.424524Z"
    },
    "papermill": {
     "duration": 0.020058,
     "end_time": "2025-03-11T12:34:21.427724",
     "exception": false,
     "start_time": "2025-03-11T12:34:21.407666",
     "status": "completed"
    },
    "tags": []
   },
   "outputs": [],
   "source": [
    "# fill the missing values in 'Transaction Date' with ffill\n",
    "df1['Transaction Date'] = df1['Transaction Date'].ffill()"
   ]
  },
  {
   "cell_type": "code",
   "execution_count": 24,
   "id": "f4a34b33",
   "metadata": {
    "execution": {
     "iopub.execute_input": "2025-03-11T12:34:21.445886Z",
     "iopub.status.busy": "2025-03-11T12:34:21.445539Z",
     "iopub.status.idle": "2025-03-11T12:34:21.454138Z",
     "shell.execute_reply": "2025-03-11T12:34:21.453148Z"
    },
    "papermill": {
     "duration": 0.019231,
     "end_time": "2025-03-11T12:34:21.455811",
     "exception": false,
     "start_time": "2025-03-11T12:34:21.436580",
     "status": "completed"
    },
    "tags": []
   },
   "outputs": [
    {
     "data": {
      "text/plain": [
       "Transaction ID      0\n",
       "Item                0\n",
       "Quantity            0\n",
       "Price Per Unit      0\n",
       "Total Spent         0\n",
       "Payment Method      0\n",
       "Location            0\n",
       "Transaction Date    0\n",
       "dtype: int64"
      ]
     },
     "execution_count": 24,
     "metadata": {},
     "output_type": "execute_result"
    }
   ],
   "source": [
    "# final check of missing values\n",
    "df1.isnull().sum()"
   ]
  },
  {
   "cell_type": "markdown",
   "id": "7073782f",
   "metadata": {
    "papermill": {
     "duration": 0.007661,
     "end_time": "2025-03-11T12:34:21.471663",
     "exception": false,
     "start_time": "2025-03-11T12:34:21.464002",
     "status": "completed"
    },
    "tags": []
   },
   "source": [
    "We have now addressed all missing values in the dataset. First, we used the available known information, such as the menu prices provided in the dataset. Next, we imputed missing values based on the mathematical relationships between several columns. Finally, we imputed the missing values by preserving the distribution of the non-null values to maintain the balance of other columns."
   ]
  },
  {
   "cell_type": "markdown",
   "id": "493ad9f0",
   "metadata": {
    "papermill": {
     "duration": 0.007732,
     "end_time": "2025-03-11T12:34:21.487334",
     "exception": false,
     "start_time": "2025-03-11T12:34:21.479602",
     "status": "completed"
    },
    "tags": []
   },
   "source": [
    "### Outliers"
   ]
  },
  {
   "cell_type": "markdown",
   "id": "12d8fc22",
   "metadata": {
    "papermill": {
     "duration": 0.007758,
     "end_time": "2025-03-11T12:34:21.503108",
     "exception": false,
     "start_time": "2025-03-11T12:34:21.495350",
     "status": "completed"
    },
    "tags": []
   },
   "source": [
    "First, we will graph the numeric columns to visually detect outliers."
   ]
  },
  {
   "cell_type": "code",
   "execution_count": 25,
   "id": "698f2bbc",
   "metadata": {
    "execution": {
     "iopub.execute_input": "2025-03-11T12:34:21.520989Z",
     "iopub.status.busy": "2025-03-11T12:34:21.520629Z",
     "iopub.status.idle": "2025-03-11T12:34:22.243355Z",
     "shell.execute_reply": "2025-03-11T12:34:22.242092Z"
    },
    "papermill": {
     "duration": 0.73357,
     "end_time": "2025-03-11T12:34:22.245134",
     "exception": false,
     "start_time": "2025-03-11T12:34:21.511564",
     "status": "completed"
    },
    "tags": []
   },
   "outputs": [
    {
     "data": {
      "image/png": "[encoded data removed]",
      "text/plain": [
       "<Figure size 1500x500 with 3 Axes>"
      ]
     },
     "metadata": {},
     "output_type": "display_data"
    }
   ],
   "source": [
    "# boxplots of numeric columns\n",
    "\n",
    "num_cols = ['Quantity', 'Price Per Unit', 'Total Spent']\n",
    "\n",
    "plt.figure(figsize=(15, 5))\n",
    "for i, column in enumerate(num_cols, 1):\n",
    "    plt.subplot(1, 3, i)\n",
    "    sns.boxplot(y=df1[column])\n",
    "    plt.title(f'Boxplot of {column}')\n",
    "plt.tight_layout()\n",
    "plt.show()"
   ]
  },
  {
   "cell_type": "markdown",
   "id": "1f243917",
   "metadata": {
    "papermill": {
     "duration": 0.008688,
     "end_time": "2025-03-11T12:34:22.262967",
     "exception": false,
     "start_time": "2025-03-11T12:34:22.254279",
     "status": "completed"
    },
    "tags": []
   },
   "source": [
    "Visually, the **Total Spent** column appears to have outliers. We will identify how many outliers exist using the IQR (Interquartile Range) method."
   ]
  },
  {
   "cell_type": "code",
   "execution_count": 26,
   "id": "8e678149",
   "metadata": {
    "execution": {
     "iopub.execute_input": "2025-03-11T12:34:22.282699Z",
     "iopub.status.busy": "2025-03-11T12:34:22.282321Z",
     "iopub.status.idle": "2025-03-11T12:34:22.292282Z",
     "shell.execute_reply": "2025-03-11T12:34:22.291090Z"
    },
    "papermill": {
     "duration": 0.021463,
     "end_time": "2025-03-11T12:34:22.294048",
     "exception": false,
     "start_time": "2025-03-11T12:34:22.272585",
     "status": "completed"
    },
    "tags": []
   },
   "outputs": [
    {
     "name": "stdout",
     "output_type": "stream",
     "text": [
      "268\n"
     ]
    }
   ],
   "source": [
    "# calculate the quartiles for Total Spent\n",
    "Q1 = df1['Total Spent'].quantile(0.25)\n",
    "Q3 = df1['Total Spent'].quantile(0.75)\n",
    "IQR = Q3 - Q1\n",
    "\n",
    "# define the bounds\n",
    "lower_bound = Q1 - 1.5 * IQR\n",
    "upper_bound = Q3 + 1.5 * IQR\n",
    "\n",
    "# calculate the number of outliers\n",
    "outliers = (df1['Total Spent'] < (lower_bound)) | (df1['Total Spent'] > (upper_bound))\n",
    "num_outliers = outliers.sum()\n",
    "print(num_outliers)"
   ]
  },
  {
   "cell_type": "markdown",
   "id": "87bfddfa",
   "metadata": {
    "papermill": {
     "duration": 0.008511,
     "end_time": "2025-03-11T12:34:22.311680",
     "exception": false,
     "start_time": "2025-03-11T12:34:22.303169",
     "status": "completed"
    },
    "tags": []
   },
   "source": [
    "The IQR method identified 268 outliers in the Total Spent column. However, while these values are technically outliers, they represent genuine entries resulting from the product of Price Per Unit and Quantity. Therefore we will not remove them."
   ]
  }
 ],
 "metadata": {
  "kaggle": {
   "accelerator": "none",
   "dataSources": [
    {
     "datasetId": 6501209,
     "sourceId": 10500284,
     "sourceType": "datasetVersion"
    }
   ],
   "dockerImageVersionId": 30918,
   "isGpuEnabled": false,
   "isInternetEnabled": false,
   "language": "python",
   "sourceType": "notebook"
  },
  "kernelspec": {
   "display_name": "Python 3",
   "language": "python",
   "name": "python3"
  },
  "language_info": {
   "codemirror_mode": {
    "name": "ipython",
    "version": 3
   },
   "file_extension": ".py",
   "mimetype": "text/x-python",
   "name": "python",
   "nbconvert_exporter": "python",
   "pygments_lexer": "ipython3",
   "version": "3.10.12"
  },
  "papermill": {
   "default_parameters": {},
   "duration": 8.846102,
   "end_time": "2025-03-11T12:34:23.043088",
   "environment_variables": {},
   "exception": null,
   "input_path": "__notebook__.ipynb",
   "output_path": "__notebook__.ipynb",
   "parameters": {},
   "start_time": "2025-03-11T12:34:14.196986",
   "version": "2.6.0"
  }
 },
 "nbformat": 4,
 "nbformat_minor": 5
}
