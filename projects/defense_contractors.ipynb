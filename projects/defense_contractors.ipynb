{
 "cells": [
  {
   "cell_type": "markdown",
   "metadata": {},
   "source": [
    "# Overview\n",
    "\n",
    "The Defense Contractors dataset contains 269 across 8 columns of data representing market cap, revenue and earning of defense contractors. Approximately 9% of the data is missing.\n",
    "\n",
    "We aim to handle all missing values and detect outliers to ensure the data is clean and suitable for model training"
   ]
  },
  {
   "cell_type": "code",
   "execution_count": 54,
   "metadata": {},
   "outputs": [],
   "source": [
    "# import libraries\n",
    "\n",
    "import pandas as pd\n",
    "import numpy as np\n",
    "import kaggle as kg\n",
    "\n",
    "import seaborn as sns\n",
    "import matplotlib.pyplot as plt\n",
    "from sklearn.linear_model import LinearRegression\n",
    "\n",
    "sns.set_theme(style='white')\n",
    "np.random.seed(0)"
   ]
  },
  {
   "cell_type": "code",
   "execution_count": null,
   "metadata": {},
   "outputs": [],
   "source": [
    "# authentica kaggle credential and download the dataset\n",
    "kg.api.authenticate()\n",
    "\n",
    "kg.api.dataset_download_files('prasertk/defense-contractors-market-cap-revenue-earning', unzip=True)"
   ]
  },
  {
   "cell_type": "code",
   "execution_count": 56,
   "metadata": {},
   "outputs": [
    {
     "data": {
      "application/vnd.microsoft.datawrangler.viewer.v0+json": {
       "columns": [
        {
         "name": "index",
         "rawType": "int64",
         "type": "integer"
        },
        {
         "name": "Symbol",
         "rawType": "object",
         "type": "string"
        },
        {
         "name": "Year",
         "rawType": "int64",
         "type": "integer"
        },
        {
         "name": "Name",
         "rawType": "object",
         "type": "string"
        },
        {
         "name": "Country",
         "rawType": "object",
         "type": "string"
        },
        {
         "name": "Category",
         "rawType": "object",
         "type": "string"
        },
        {
         "name": "Market cap",
         "rawType": "object",
         "type": "string"
        },
        {
         "name": "Revenue",
         "rawType": "object",
         "type": "unknown"
        },
        {
         "name": "Earnings",
         "rawType": "object",
         "type": "unknown"
        }
       ],
       "conversionMethod": "pd.DataFrame",
       "ref": "7024a040-c382-4935-ab92-5ddecd28992a",
       "rows": [
        [
         "0",
         "AM.PA",
         "2022",
         "Dassault Aviation",
         "France",
         "Aircraft manufacturers|Defense contractors|Manufacturing",
         "$11.91 B",
         null,
         null
        ],
        [
         "1",
         "BA",
         "2001",
         "Boeing",
         "USA",
         "Aircraft manufacturers|Aerospace|Dow jones|Manufacturing",
         "$30.94 B",
         "$58.19 B",
         null
        ],
        [
         "2",
         "BA",
         "2002",
         "Boeing",
         "USA",
         "Aircraft manufacturers|Aerospace|Dow jones|Manufacturing",
         "$26.37 B",
         "$54.06 B",
         null
        ],
        [
         "3",
         "BA",
         "2003",
         "Boeing",
         "USA",
         "Aircraft manufacturers|Aerospace|Dow jones|Manufacturing",
         "$33.72 B",
         "$50.48 B",
         null
        ],
        [
         "4",
         "BA",
         "2004",
         "Boeing",
         "USA",
         "Aircraft manufacturers|Aerospace|Dow jones|Manufacturing",
         "$43.08 B",
         "$52.51 B",
         null
        ]
       ],
       "shape": {
        "columns": 8,
        "rows": 5
       }
      },
      "text/html": [
       "<div>\n",
       "<style scoped>\n",
       "    .dataframe tbody tr th:only-of-type {\n",
       "        vertical-align: middle;\n",
       "    }\n",
       "\n",
       "    .dataframe tbody tr th {\n",
       "        vertical-align: top;\n",
       "    }\n",
       "\n",
       "    .dataframe thead th {\n",
       "        text-align: right;\n",
       "    }\n",
       "</style>\n",
       "<table border=\"1\" class=\"dataframe\">\n",
       "  <thead>\n",
       "    <tr style=\"text-align: right;\">\n",
       "      <th></th>\n",
       "      <th>Symbol</th>\n",
       "      <th>Year</th>\n",
       "      <th>Name</th>\n",
       "      <th>Country</th>\n",
       "      <th>Category</th>\n",
       "      <th>Market cap</th>\n",
       "      <th>Revenue</th>\n",
       "      <th>Earnings</th>\n",
       "    </tr>\n",
       "  </thead>\n",
       "  <tbody>\n",
       "    <tr>\n",
       "      <th>0</th>\n",
       "      <td>AM.PA</td>\n",
       "      <td>2022</td>\n",
       "      <td>Dassault Aviation</td>\n",
       "      <td>France</td>\n",
       "      <td>Aircraft manufacturers|Defense contractors|Man...</td>\n",
       "      <td>$11.91 B</td>\n",
       "      <td>NaN</td>\n",
       "      <td>NaN</td>\n",
       "    </tr>\n",
       "    <tr>\n",
       "      <th>1</th>\n",
       "      <td>BA</td>\n",
       "      <td>2001</td>\n",
       "      <td>Boeing</td>\n",
       "      <td>USA</td>\n",
       "      <td>Aircraft manufacturers|Aerospace|Dow jones|Man...</td>\n",
       "      <td>$30.94 B</td>\n",
       "      <td>$58.19 B</td>\n",
       "      <td>NaN</td>\n",
       "    </tr>\n",
       "    <tr>\n",
       "      <th>2</th>\n",
       "      <td>BA</td>\n",
       "      <td>2002</td>\n",
       "      <td>Boeing</td>\n",
       "      <td>USA</td>\n",
       "      <td>Aircraft manufacturers|Aerospace|Dow jones|Man...</td>\n",
       "      <td>$26.37 B</td>\n",
       "      <td>$54.06 B</td>\n",
       "      <td>NaN</td>\n",
       "    </tr>\n",
       "    <tr>\n",
       "      <th>3</th>\n",
       "      <td>BA</td>\n",
       "      <td>2003</td>\n",
       "      <td>Boeing</td>\n",
       "      <td>USA</td>\n",
       "      <td>Aircraft manufacturers|Aerospace|Dow jones|Man...</td>\n",
       "      <td>$33.72 B</td>\n",
       "      <td>$50.48 B</td>\n",
       "      <td>NaN</td>\n",
       "    </tr>\n",
       "    <tr>\n",
       "      <th>4</th>\n",
       "      <td>BA</td>\n",
       "      <td>2004</td>\n",
       "      <td>Boeing</td>\n",
       "      <td>USA</td>\n",
       "      <td>Aircraft manufacturers|Aerospace|Dow jones|Man...</td>\n",
       "      <td>$43.08 B</td>\n",
       "      <td>$52.51 B</td>\n",
       "      <td>NaN</td>\n",
       "    </tr>\n",
       "  </tbody>\n",
       "</table>\n",
       "</div>"
      ],
      "text/plain": [
       "  Symbol  Year               Name Country  \\\n",
       "0  AM.PA  2022  Dassault Aviation  France   \n",
       "1     BA  2001             Boeing     USA   \n",
       "2     BA  2002             Boeing     USA   \n",
       "3     BA  2003             Boeing     USA   \n",
       "4     BA  2004             Boeing     USA   \n",
       "\n",
       "                                            Category Market cap   Revenue  \\\n",
       "0  Aircraft manufacturers|Defense contractors|Man...   $11.91 B       NaN   \n",
       "1  Aircraft manufacturers|Aerospace|Dow jones|Man...   $30.94 B  $58.19 B   \n",
       "2  Aircraft manufacturers|Aerospace|Dow jones|Man...   $26.37 B  $54.06 B   \n",
       "3  Aircraft manufacturers|Aerospace|Dow jones|Man...   $33.72 B  $50.48 B   \n",
       "4  Aircraft manufacturers|Aerospace|Dow jones|Man...   $43.08 B  $52.51 B   \n",
       "\n",
       "  Earnings  \n",
       "0      NaN  \n",
       "1      NaN  \n",
       "2      NaN  \n",
       "3      NaN  \n",
       "4      NaN  "
      ]
     },
     "execution_count": 56,
     "metadata": {},
     "output_type": "execute_result"
    }
   ],
   "source": [
    "# load the data\n",
    "df = pd.read_csv('data/defense_contractor.csv')\n",
    "df.head()"
   ]
  },
  {
   "cell_type": "markdown",
   "metadata": {},
   "source": [
    "# Data Exploration"
   ]
  },
  {
   "cell_type": "code",
   "execution_count": 57,
   "metadata": {},
   "outputs": [
    {
     "name": "stdout",
     "output_type": "stream",
     "text": [
      "<class 'pandas.core.frame.DataFrame'>\n",
      "RangeIndex: 269 entries, 0 to 268\n",
      "Data columns (total 8 columns):\n",
      " #   Column      Non-Null Count  Dtype \n",
      "---  ------      --------------  ----- \n",
      " 0   Symbol      269 non-null    object\n",
      " 1   Year        269 non-null    int64 \n",
      " 2   Name        269 non-null    object\n",
      " 3   Country     269 non-null    object\n",
      " 4   Category    269 non-null    object\n",
      " 5   Market cap  254 non-null    object\n",
      " 6   Revenue     189 non-null    object\n",
      " 7   Earnings    171 non-null    object\n",
      "dtypes: int64(1), object(7)\n",
      "memory usage: 16.9+ KB\n"
     ]
    }
   ],
   "source": [
    "# check the data types and shape of our data\n",
    "df.info()"
   ]
  },
  {
   "cell_type": "code",
   "execution_count": 58,
   "metadata": {},
   "outputs": [
    {
     "data": {
      "text/plain": [
       "Symbol         0\n",
       "Year           0\n",
       "Name           0\n",
       "Country        0\n",
       "Category       0\n",
       "Market cap    15\n",
       "Revenue       80\n",
       "Earnings      98\n",
       "dtype: int64"
      ]
     },
     "execution_count": 58,
     "metadata": {},
     "output_type": "execute_result"
    }
   ],
   "source": [
    "# check the null values\n",
    "df.isnull().sum()"
   ]
  },
  {
   "cell_type": "code",
   "execution_count": 59,
   "metadata": {},
   "outputs": [
    {
     "data": {
      "text/plain": [
       "np.float64(8.968401486988848)"
      ]
     },
     "execution_count": 59,
     "metadata": {},
     "output_type": "execute_result"
    }
   ],
   "source": [
    "# check what percentage of the data is missing\n",
    "total_null = df.isnull().sum().sum()\n",
    "total_cells = np.prod(df.shape)\n",
    "percentage_null = (total_null / total_cells) * 100\n",
    "percentage_null"
   ]
  },
  {
   "cell_type": "code",
   "execution_count": 60,
   "metadata": {},
   "outputs": [
    {
     "data": {
      "text/plain": [
       "np.int64(0)"
      ]
     },
     "execution_count": 60,
     "metadata": {},
     "output_type": "execute_result"
    }
   ],
   "source": [
    "# check if there's duplicated rows\n",
    "df.duplicated().sum()"
   ]
  },
  {
   "cell_type": "code",
   "execution_count": 61,
   "metadata": {},
   "outputs": [],
   "source": [
    "# create a copy of the dataframe for manipulation\n",
    "df1 = df.copy()"
   ]
  },
  {
   "cell_type": "markdown",
   "metadata": {},
   "source": [
    "# Data Types"
   ]
  },
  {
   "cell_type": "code",
   "execution_count": 62,
   "metadata": {},
   "outputs": [
    {
     "data": {
      "application/vnd.microsoft.datawrangler.viewer.v0+json": {
       "columns": [
        {
         "name": "index",
         "rawType": "int64",
         "type": "integer"
        },
        {
         "name": "Symbol",
         "rawType": "object",
         "type": "string"
        },
        {
         "name": "Year",
         "rawType": "int64",
         "type": "integer"
        },
        {
         "name": "Name",
         "rawType": "object",
         "type": "string"
        },
        {
         "name": "Country",
         "rawType": "object",
         "type": "string"
        },
        {
         "name": "Category",
         "rawType": "object",
         "type": "string"
        },
        {
         "name": "Market cap",
         "rawType": "object",
         "type": "string"
        },
        {
         "name": "Revenue",
         "rawType": "object",
         "type": "unknown"
        },
        {
         "name": "Earnings",
         "rawType": "object",
         "type": "unknown"
        }
       ],
       "conversionMethod": "pd.DataFrame",
       "ref": "63137d41-bca7-452a-8c2a-e608073eec11",
       "rows": [
        [
         "0",
         "AM.PA",
         "2022",
         "Dassault Aviation",
         "France",
         "Aircraft manufacturers|Defense contractors|Manufacturing",
         "$11.91 B",
         null,
         null
        ],
        [
         "1",
         "BA",
         "2001",
         "Boeing",
         "USA",
         "Aircraft manufacturers|Aerospace|Dow jones|Manufacturing",
         "$30.94 B",
         "$58.19 B",
         null
        ],
        [
         "2",
         "BA",
         "2002",
         "Boeing",
         "USA",
         "Aircraft manufacturers|Aerospace|Dow jones|Manufacturing",
         "$26.37 B",
         "$54.06 B",
         null
        ],
        [
         "3",
         "BA",
         "2003",
         "Boeing",
         "USA",
         "Aircraft manufacturers|Aerospace|Dow jones|Manufacturing",
         "$33.72 B",
         "$50.48 B",
         null
        ],
        [
         "4",
         "BA",
         "2004",
         "Boeing",
         "USA",
         "Aircraft manufacturers|Aerospace|Dow jones|Manufacturing",
         "$43.08 B",
         "$52.51 B",
         null
        ]
       ],
       "shape": {
        "columns": 8,
        "rows": 5
       }
      },
      "text/html": [
       "<div>\n",
       "<style scoped>\n",
       "    .dataframe tbody tr th:only-of-type {\n",
       "        vertical-align: middle;\n",
       "    }\n",
       "\n",
       "    .dataframe tbody tr th {\n",
       "        vertical-align: top;\n",
       "    }\n",
       "\n",
       "    .dataframe thead th {\n",
       "        text-align: right;\n",
       "    }\n",
       "</style>\n",
       "<table border=\"1\" class=\"dataframe\">\n",
       "  <thead>\n",
       "    <tr style=\"text-align: right;\">\n",
       "      <th></th>\n",
       "      <th>Symbol</th>\n",
       "      <th>Year</th>\n",
       "      <th>Name</th>\n",
       "      <th>Country</th>\n",
       "      <th>Category</th>\n",
       "      <th>Market cap</th>\n",
       "      <th>Revenue</th>\n",
       "      <th>Earnings</th>\n",
       "    </tr>\n",
       "  </thead>\n",
       "  <tbody>\n",
       "    <tr>\n",
       "      <th>0</th>\n",
       "      <td>AM.PA</td>\n",
       "      <td>2022</td>\n",
       "      <td>Dassault Aviation</td>\n",
       "      <td>France</td>\n",
       "      <td>Aircraft manufacturers|Defense contractors|Man...</td>\n",
       "      <td>$11.91 B</td>\n",
       "      <td>NaN</td>\n",
       "      <td>NaN</td>\n",
       "    </tr>\n",
       "    <tr>\n",
       "      <th>1</th>\n",
       "      <td>BA</td>\n",
       "      <td>2001</td>\n",
       "      <td>Boeing</td>\n",
       "      <td>USA</td>\n",
       "      <td>Aircraft manufacturers|Aerospace|Dow jones|Man...</td>\n",
       "      <td>$30.94 B</td>\n",
       "      <td>$58.19 B</td>\n",
       "      <td>NaN</td>\n",
       "    </tr>\n",
       "    <tr>\n",
       "      <th>2</th>\n",
       "      <td>BA</td>\n",
       "      <td>2002</td>\n",
       "      <td>Boeing</td>\n",
       "      <td>USA</td>\n",
       "      <td>Aircraft manufacturers|Aerospace|Dow jones|Man...</td>\n",
       "      <td>$26.37 B</td>\n",
       "      <td>$54.06 B</td>\n",
       "      <td>NaN</td>\n",
       "    </tr>\n",
       "    <tr>\n",
       "      <th>3</th>\n",
       "      <td>BA</td>\n",
       "      <td>2003</td>\n",
       "      <td>Boeing</td>\n",
       "      <td>USA</td>\n",
       "      <td>Aircraft manufacturers|Aerospace|Dow jones|Man...</td>\n",
       "      <td>$33.72 B</td>\n",
       "      <td>$50.48 B</td>\n",
       "      <td>NaN</td>\n",
       "    </tr>\n",
       "    <tr>\n",
       "      <th>4</th>\n",
       "      <td>BA</td>\n",
       "      <td>2004</td>\n",
       "      <td>Boeing</td>\n",
       "      <td>USA</td>\n",
       "      <td>Aircraft manufacturers|Aerospace|Dow jones|Man...</td>\n",
       "      <td>$43.08 B</td>\n",
       "      <td>$52.51 B</td>\n",
       "      <td>NaN</td>\n",
       "    </tr>\n",
       "  </tbody>\n",
       "</table>\n",
       "</div>"
      ],
      "text/plain": [
       "  Symbol  Year               Name Country  \\\n",
       "0  AM.PA  2022  Dassault Aviation  France   \n",
       "1     BA  2001             Boeing     USA   \n",
       "2     BA  2002             Boeing     USA   \n",
       "3     BA  2003             Boeing     USA   \n",
       "4     BA  2004             Boeing     USA   \n",
       "\n",
       "                                            Category Market cap   Revenue  \\\n",
       "0  Aircraft manufacturers|Defense contractors|Man...   $11.91 B       NaN   \n",
       "1  Aircraft manufacturers|Aerospace|Dow jones|Man...   $30.94 B  $58.19 B   \n",
       "2  Aircraft manufacturers|Aerospace|Dow jones|Man...   $26.37 B  $54.06 B   \n",
       "3  Aircraft manufacturers|Aerospace|Dow jones|Man...   $33.72 B  $50.48 B   \n",
       "4  Aircraft manufacturers|Aerospace|Dow jones|Man...   $43.08 B  $52.51 B   \n",
       "\n",
       "  Earnings  \n",
       "0      NaN  \n",
       "1      NaN  \n",
       "2      NaN  \n",
       "3      NaN  \n",
       "4      NaN  "
      ]
     },
     "execution_count": 62,
     "metadata": {},
     "output_type": "execute_result"
    }
   ],
   "source": [
    "# check the new dataframe\n",
    "df1.head()"
   ]
  },
  {
   "cell_type": "code",
   "execution_count": 63,
   "metadata": {},
   "outputs": [],
   "source": [
    "# convert Market cap, Revenue, and Earnings to numeric\n",
    "df1['Market cap'] = df1['Market cap'].str.replace('$', '').str.replace('B', '').astype(float)\n",
    "df1['Revenue'] = df1['Revenue'].str.replace('$', '').str.replace('B', '').astype(float)\n",
    "df1['Earnings'] = df1['Earnings'].str.replace('$', '').str.replace('B', '').astype(float)"
   ]
  },
  {
   "cell_type": "code",
   "execution_count": 64,
   "metadata": {},
   "outputs": [],
   "source": [
    "# convert Country and Category to category\n",
    "df1[['Country', 'Category']] = df1[['Country', 'Category']].astype('category')"
   ]
  },
  {
   "cell_type": "markdown",
   "metadata": {},
   "source": [
    "# Data Viz"
   ]
  },
  {
   "cell_type": "code",
   "execution_count": 65,
   "metadata": {},
   "outputs": [
    {
     "data": {
      "image/png": "[encoded data removed]",
      "text/plain": [
       "<Figure size 1500x500 with 3 Axes>"
      ]
     },
     "metadata": {},
     "output_type": "display_data"
    }
   ],
   "source": [
    "# select the numeric columns and turn them into a DataFrame which we'll use in later steps\n",
    "num_cols = pd.DataFrame(df1, columns=['Market cap', 'Revenue', 'Earnings'])\n",
    "\n",
    "# check the distribution of the numeric columns\n",
    "plt.figure(figsize=(15, 5))\n",
    "for i, column in enumerate(num_cols, 1):\n",
    "    plt.subplot(1, 3, i)\n",
    "    sns.histplot(x=df1[column])\n",
    "    plt.title(f'{column}')\n",
    "plt.tight_layout()\n",
    "plt.show()"
   ]
  },
  {
   "cell_type": "markdown",
   "metadata": {},
   "source": [
    "All 3 columns are positively skewed to different degrees."
   ]
  },
  {
   "cell_type": "code",
   "execution_count": 66,
   "metadata": {},
   "outputs": [
    {
     "data": {
      "image/png": "[encoded data removed]",
      "text/plain": [
       "<Figure size 600x500 with 2 Axes>"
      ]
     },
     "metadata": {},
     "output_type": "display_data"
    }
   ],
   "source": [
    "# check the correlation between the numeric columns\n",
    "\n",
    "corr = num_cols.corr()\n",
    "\n",
    "plt.figure(figsize=(6, 5))\n",
    "sns.heatmap(corr, annot=True, fmt='.2f', cmap=\"coolwarm\", square=True)\n",
    "plt.title('Correlation Matrix')\n",
    "plt.show()"
   ]
  },
  {
   "cell_type": "markdown",
   "metadata": {},
   "source": [
    "There are strong correlations between the 3 columns."
   ]
  },
  {
   "cell_type": "markdown",
   "metadata": {},
   "source": [
    "# Missing Values"
   ]
  },
  {
   "cell_type": "markdown",
   "metadata": {},
   "source": [
    "There are several ways we can use the correlation between our numeric columns to impute the missing values. For example, we could use the distribution of the non-nulls values of a given column to impute the missing values of the other(s), and vice versa. Given the skewness of the data, for example **Market cap**, this would likely require a logarithmic transformation before imputation.\n",
    "\n",
    "In this project, we will use linear regression imputation."
   ]
  },
  {
   "cell_type": "code",
   "execution_count": 67,
   "metadata": {},
   "outputs": [],
   "source": [
    "# impute missing values in Earnings based on its linear relationship with Market cap\n",
    "mc_e_data = df1.dropna(subset=['Market cap', 'Earnings'])\n",
    "\n",
    "reg = LinearRegression()\n",
    "reg.fit(mc_e_data[['Market cap']], mc_e_data['Earnings'])\n",
    "\n",
    "# predict missing Earnings values\n",
    "df1.loc[df1['Earnings'].isna(), 'Earnings'] = reg.predict(df1.loc[df1['Earnings'].isna(), ['Market cap']])"
   ]
  },
  {
   "cell_type": "code",
   "execution_count": 68,
   "metadata": {},
   "outputs": [],
   "source": [
    "# impute missing values in Revenue, based on its linear relationship with Market cap\n",
    "mc_r_data = df1.dropna(subset=['Market cap', 'Revenue'])\n",
    "\n",
    "reg_r = LinearRegression()\n",
    "reg_r.fit(mc_r_data[['Market cap']], mc_r_data['Revenue'])\n",
    "\n",
    "# predict missing Revenue values\n",
    "df1.loc[df1['Revenue'].isna(), 'Revenue'] = reg_r.predict(df1.loc[df1['Revenue'].isna(), ['Market cap']])"
   ]
  },
  {
   "cell_type": "code",
   "execution_count": 69,
   "metadata": {},
   "outputs": [],
   "source": [
    "# impute missing values in Market cap, based on its linear relationship with Earnings and Revenue\n",
    "mc_imp_data = df1.dropna(subset=['Revenue', 'Earnings', 'Market cap'])\n",
    "\n",
    "reg_mc = LinearRegression()\n",
    "reg_mc.fit(mc_imp_data[['Revenue', 'Earnings']], mc_imp_data['Market cap'])\n",
    "\n",
    "# predict missing Market Cap values\n",
    "df1.loc[df1['Market cap'].isna(), 'Market cap'] = np.maximum(\n",
    "    reg_mc.predict(df1.loc[df1['Market cap'].isna(), ['Revenue', 'Earnings']]), \n",
    "    0.78  # Ensures minimum Market Cap is 0.78\n",
    ")"
   ]
  },
  {
   "cell_type": "markdown",
   "metadata": {},
   "source": [
    "When imputing missing **Market cap** values, we set a lower bound of 0.78. This is the minimum observed value before imputation, and we use it to prevent negative values, as **Market cap** cannot be logically negative. The lower bound of 0.78 follows the original data but it is arbitrary, as another figure (e.g. 0) could also be used."
   ]
  },
  {
   "cell_type": "code",
   "execution_count": 70,
   "metadata": {},
   "outputs": [
    {
     "data": {
      "text/plain": [
       "Symbol        0\n",
       "Year          0\n",
       "Name          0\n",
       "Country       0\n",
       "Category      0\n",
       "Market cap    0\n",
       "Revenue       0\n",
       "Earnings      0\n",
       "dtype: int64"
      ]
     },
     "execution_count": 70,
     "metadata": {},
     "output_type": "execute_result"
    }
   ],
   "source": [
    "# check the missing values after imputation\n",
    "df1.isnull().sum()"
   ]
  },
  {
   "cell_type": "code",
   "execution_count": 71,
   "metadata": {},
   "outputs": [
    {
     "data": {
      "image/png": "[encoded data removed]",
      "text/plain": [
       "<Figure size 1800x500 with 3 Axes>"
      ]
     },
     "metadata": {},
     "output_type": "display_data"
    }
   ],
   "source": [
    "# create subplots: 1 row, 3 columns\n",
    "fig, axes = plt.subplots(1, 3, figsize=(18, 5))\n",
    "\n",
    "# plot for Earnings\n",
    "sns.histplot(df1['Earnings'].dropna(), kde=True, color='blue', label='After Imputation', ax=axes[0])\n",
    "sns.histplot(mc_e_data['Earnings'], kde=True, color='red', label='Before Imputation', alpha=0.5, ax=axes[0])\n",
    "axes[0].set_title(\"Distribution of Earnings Before & After Imputation\")\n",
    "axes[0].legend()\n",
    "\n",
    "# plot for Revenue\n",
    "sns.histplot(df1['Revenue'].dropna(), kde=True, color='blue', label='After Imputation', ax=axes[1])\n",
    "sns.histplot(mc_r_data['Revenue'], kde=True, color='red', label='Before Imputation', alpha=0.5, ax=axes[1])\n",
    "axes[1].set_title(\"Distribution of Revenue Before & After Imputation\")\n",
    "axes[1].legend()\n",
    "\n",
    "# plot for Market cap\n",
    "sns.histplot(df1['Market cap'].dropna(), kde=True, color='blue', label='After Imputation', ax=axes[2])\n",
    "sns.histplot(mc_imp_data['Market cap'], kde=True, color='red', label='Before Imputation', alpha=0.5, ax=axes[2])\n",
    "axes[2].set_title(\"Distribution of Market cap Before & After Imputation\")\n",
    "axes[2].legend()\n",
    "\n",
    "plt.tight_layout()\n",
    "plt.show()\n"
   ]
  },
  {
   "cell_type": "markdown",
   "metadata": {},
   "source": [
    "After imputation, the shape of our variables has changed, as expected. In the original dataset, up to ±36% of the values in **Earnings** were missing. Despite this transformation, the positive skewness remains similar to its pre-imputation state.  \n",
    "\n",
    "Next, we'll examine the data for outliers."
   ]
  },
  {
   "cell_type": "markdown",
   "metadata": {},
   "source": [
    "# Outliers"
   ]
  },
  {
   "cell_type": "code",
   "execution_count": 72,
   "metadata": {},
   "outputs": [
    {
     "data": {
      "image/png": "[encoded data removed]",
      "text/plain": [
       "<Figure size 1500x500 with 3 Axes>"
      ]
     },
     "metadata": {},
     "output_type": "display_data"
    }
   ],
   "source": [
    "# boxplots of numeric columns\n",
    "\n",
    "plt.figure(figsize=(15, 5))\n",
    "for i, column in enumerate(num_cols, 1):\n",
    "    plt.subplot(1, 3, i)\n",
    "    sns.boxplot(y=df1[column])\n",
    "    plt.title(f'Boxplot of {column}')\n",
    "plt.tight_layout()\n",
    "plt.show()"
   ]
  },
  {
   "cell_type": "markdown",
   "metadata": {},
   "source": [
    "The imputation of missing values introduced outliers to our numeric variables. This was expected. \n",
    "\n",
    "We will now use the IQR method to check how many outliers there are in each column."
   ]
  },
  {
   "cell_type": "code",
   "execution_count": 73,
   "metadata": {},
   "outputs": [
    {
     "name": "stdout",
     "output_type": "stream",
     "text": [
      "Number of outliers:\n",
      "Market cap    11\n",
      "Revenue        4\n",
      "Earnings       7\n",
      "dtype: int64\n"
     ]
    }
   ],
   "source": [
    "# update numn_cols to include post-imputation data\n",
    "num_cols = pd.DataFrame(df1, columns=['Market cap', 'Revenue', 'Earnings'])\n",
    "\n",
    "# calculate the IQR for each numerical variable\n",
    "Q1 = num_cols.quantile(0.25)\n",
    "Q3 = num_cols.quantile(0.75)\n",
    "IQR = Q3 - Q1\n",
    "\n",
    "# identify the outliers outside the IQR\n",
    "outliers = ((num_cols < (Q1 - 1.5 * IQR)) | (num_cols > (Q3 + 1.5 * IQR)))\n",
    "num_outliers = outliers.sum()\n",
    "print(f'Number of outliers:\\n{num_outliers}')"
   ]
  },
  {
   "cell_type": "markdown",
   "metadata": {},
   "source": [
    "We will perform a log transformation of the numeric variables to handle outliers. However, **Earnings** has some missing values (see below). These negative values are important since we cannot take the logarithm of a negative value."
   ]
  },
  {
   "cell_type": "code",
   "execution_count": 74,
   "metadata": {},
   "outputs": [
    {
     "data": {
      "application/vnd.microsoft.datawrangler.viewer.v0+json": {
       "columns": [
        {
         "name": "index",
         "rawType": "object",
         "type": "string"
        },
        {
         "name": "Market cap",
         "rawType": "float64",
         "type": "float"
        },
        {
         "name": "Revenue",
         "rawType": "float64",
         "type": "float"
        },
        {
         "name": "Earnings",
         "rawType": "float64",
         "type": "float"
        }
       ],
       "conversionMethod": "pd.DataFrame",
       "ref": "23a33071-6a4f-45e1-8421-02e28405c7f6",
       "rows": [
        [
         "count",
         "269.0",
         "269.0",
         "269.0"
        ],
        [
         "mean",
         "37.77899393454412",
         "32.95507344802578",
         "3.1143501591791156"
        ],
        [
         "std",
         "37.48915257616412",
         "22.354955723766924",
         "2.7115855514004057"
        ],
        [
         "min",
         "0.78",
         "1.9",
         "-1.67"
        ],
        [
         "25%",
         "7.89",
         "16.00600018774117",
         "0.8952270662893775"
        ],
        [
         "50%",
         "25.96",
         "27.48",
         "2.3976926449236693"
        ],
        [
         "75%",
         "53.13",
         "46.24",
         "4.3706468003725645"
        ],
        [
         "max",
         "183.37",
         "101.12",
         "12.530299854785515"
        ]
       ],
       "shape": {
        "columns": 3,
        "rows": 8
       }
      },
      "text/html": [
       "<div>\n",
       "<style scoped>\n",
       "    .dataframe tbody tr th:only-of-type {\n",
       "        vertical-align: middle;\n",
       "    }\n",
       "\n",
       "    .dataframe tbody tr th {\n",
       "        vertical-align: top;\n",
       "    }\n",
       "\n",
       "    .dataframe thead th {\n",
       "        text-align: right;\n",
       "    }\n",
       "</style>\n",
       "<table border=\"1\" class=\"dataframe\">\n",
       "  <thead>\n",
       "    <tr style=\"text-align: right;\">\n",
       "      <th></th>\n",
       "      <th>Market cap</th>\n",
       "      <th>Revenue</th>\n",
       "      <th>Earnings</th>\n",
       "    </tr>\n",
       "  </thead>\n",
       "  <tbody>\n",
       "    <tr>\n",
       "      <th>count</th>\n",
       "      <td>269.000000</td>\n",
       "      <td>269.000000</td>\n",
       "      <td>269.000000</td>\n",
       "    </tr>\n",
       "    <tr>\n",
       "      <th>mean</th>\n",
       "      <td>37.778994</td>\n",
       "      <td>32.955073</td>\n",
       "      <td>3.114350</td>\n",
       "    </tr>\n",
       "    <tr>\n",
       "      <th>std</th>\n",
       "      <td>37.489153</td>\n",
       "      <td>22.354956</td>\n",
       "      <td>2.711586</td>\n",
       "    </tr>\n",
       "    <tr>\n",
       "      <th>min</th>\n",
       "      <td>0.780000</td>\n",
       "      <td>1.900000</td>\n",
       "      <td>-1.670000</td>\n",
       "    </tr>\n",
       "    <tr>\n",
       "      <th>25%</th>\n",
       "      <td>7.890000</td>\n",
       "      <td>16.006000</td>\n",
       "      <td>0.895227</td>\n",
       "    </tr>\n",
       "    <tr>\n",
       "      <th>50%</th>\n",
       "      <td>25.960000</td>\n",
       "      <td>27.480000</td>\n",
       "      <td>2.397693</td>\n",
       "    </tr>\n",
       "    <tr>\n",
       "      <th>75%</th>\n",
       "      <td>53.130000</td>\n",
       "      <td>46.240000</td>\n",
       "      <td>4.370647</td>\n",
       "    </tr>\n",
       "    <tr>\n",
       "      <th>max</th>\n",
       "      <td>183.370000</td>\n",
       "      <td>101.120000</td>\n",
       "      <td>12.530300</td>\n",
       "    </tr>\n",
       "  </tbody>\n",
       "</table>\n",
       "</div>"
      ],
      "text/plain": [
       "       Market cap     Revenue    Earnings\n",
       "count  269.000000  269.000000  269.000000\n",
       "mean    37.778994   32.955073    3.114350\n",
       "std     37.489153   22.354956    2.711586\n",
       "min      0.780000    1.900000   -1.670000\n",
       "25%      7.890000   16.006000    0.895227\n",
       "50%     25.960000   27.480000    2.397693\n",
       "75%     53.130000   46.240000    4.370647\n",
       "max    183.370000  101.120000   12.530300"
      ]
     },
     "execution_count": 74,
     "metadata": {},
     "output_type": "execute_result"
    }
   ],
   "source": [
    "# check for negative values in the numeric variables\n",
    "num_cols.describe()"
   ]
  },
  {
   "cell_type": "code",
   "execution_count": 75,
   "metadata": {},
   "outputs": [
    {
     "data": {
      "application/vnd.microsoft.datawrangler.viewer.v0+json": {
       "columns": [
        {
         "name": "index",
         "rawType": "int64",
         "type": "integer"
        },
        {
         "name": "Symbol",
         "rawType": "object",
         "type": "string"
        },
        {
         "name": "Year",
         "rawType": "int64",
         "type": "integer"
        },
        {
         "name": "Name",
         "rawType": "object",
         "type": "string"
        },
        {
         "name": "Country",
         "rawType": "category",
         "type": "unknown"
        },
        {
         "name": "Category",
         "rawType": "category",
         "type": "unknown"
        },
        {
         "name": "Market cap",
         "rawType": "float64",
         "type": "float"
        },
        {
         "name": "Revenue",
         "rawType": "float64",
         "type": "float"
        },
        {
         "name": "Earnings",
         "rawType": "float64",
         "type": "float"
        }
       ],
       "conversionMethod": "pd.DataFrame",
       "ref": "6bdb4f22-2d78-49e0-b88f-8ba9e7f79e12",
       "rows": [
        [
         "0",
         "AM.PA",
         "2022",
         "Dassault Aviation",
         "France",
         "Aircraft manufacturers|Defense contractors|Manufacturing",
         "11.91",
         "20.49607285687521",
         "1.4644601592255655"
        ],
        [
         "1",
         "BA",
         "2001",
         "Boeing",
         "USA",
         "Aircraft manufacturers|Aerospace|Dow jones|Manufacturing",
         "30.94",
         "58.19",
         "2.6926354152999026"
        ],
        [
         "2",
         "BA",
         "2002",
         "Boeing",
         "USA",
         "Aircraft manufacturers|Aerospace|Dow jones|Manufacturing",
         "26.37",
         "54.06",
         "2.3976926449236693"
        ],
        [
         "3",
         "BA",
         "2003",
         "Boeing",
         "USA",
         "Aircraft manufacturers|Aerospace|Dow jones|Manufacturing",
         "33.72",
         "50.48",
         "2.8720535557038254"
        ],
        [
         "4",
         "BA",
         "2004",
         "Boeing",
         "USA",
         "Aircraft manufacturers|Aerospace|Dow jones|Manufacturing",
         "43.08",
         "52.51",
         "3.476137654329984"
        ]
       ],
       "shape": {
        "columns": 8,
        "rows": 5
       }
      },
      "text/html": [
       "<div>\n",
       "<style scoped>\n",
       "    .dataframe tbody tr th:only-of-type {\n",
       "        vertical-align: middle;\n",
       "    }\n",
       "\n",
       "    .dataframe tbody tr th {\n",
       "        vertical-align: top;\n",
       "    }\n",
       "\n",
       "    .dataframe thead th {\n",
       "        text-align: right;\n",
       "    }\n",
       "</style>\n",
       "<table border=\"1\" class=\"dataframe\">\n",
       "  <thead>\n",
       "    <tr style=\"text-align: right;\">\n",
       "      <th></th>\n",
       "      <th>Symbol</th>\n",
       "      <th>Year</th>\n",
       "      <th>Name</th>\n",
       "      <th>Country</th>\n",
       "      <th>Category</th>\n",
       "      <th>Market cap</th>\n",
       "      <th>Revenue</th>\n",
       "      <th>Earnings</th>\n",
       "    </tr>\n",
       "  </thead>\n",
       "  <tbody>\n",
       "    <tr>\n",
       "      <th>0</th>\n",
       "      <td>AM.PA</td>\n",
       "      <td>2022</td>\n",
       "      <td>Dassault Aviation</td>\n",
       "      <td>France</td>\n",
       "      <td>Aircraft manufacturers|Defense contractors|Man...</td>\n",
       "      <td>11.91</td>\n",
       "      <td>20.496073</td>\n",
       "      <td>1.464460</td>\n",
       "    </tr>\n",
       "    <tr>\n",
       "      <th>1</th>\n",
       "      <td>BA</td>\n",
       "      <td>2001</td>\n",
       "      <td>Boeing</td>\n",
       "      <td>USA</td>\n",
       "      <td>Aircraft manufacturers|Aerospace|Dow jones|Man...</td>\n",
       "      <td>30.94</td>\n",
       "      <td>58.190000</td>\n",
       "      <td>2.692635</td>\n",
       "    </tr>\n",
       "    <tr>\n",
       "      <th>2</th>\n",
       "      <td>BA</td>\n",
       "      <td>2002</td>\n",
       "      <td>Boeing</td>\n",
       "      <td>USA</td>\n",
       "      <td>Aircraft manufacturers|Aerospace|Dow jones|Man...</td>\n",
       "      <td>26.37</td>\n",
       "      <td>54.060000</td>\n",
       "      <td>2.397693</td>\n",
       "    </tr>\n",
       "    <tr>\n",
       "      <th>3</th>\n",
       "      <td>BA</td>\n",
       "      <td>2003</td>\n",
       "      <td>Boeing</td>\n",
       "      <td>USA</td>\n",
       "      <td>Aircraft manufacturers|Aerospace|Dow jones|Man...</td>\n",
       "      <td>33.72</td>\n",
       "      <td>50.480000</td>\n",
       "      <td>2.872054</td>\n",
       "    </tr>\n",
       "    <tr>\n",
       "      <th>4</th>\n",
       "      <td>BA</td>\n",
       "      <td>2004</td>\n",
       "      <td>Boeing</td>\n",
       "      <td>USA</td>\n",
       "      <td>Aircraft manufacturers|Aerospace|Dow jones|Man...</td>\n",
       "      <td>43.08</td>\n",
       "      <td>52.510000</td>\n",
       "      <td>3.476138</td>\n",
       "    </tr>\n",
       "  </tbody>\n",
       "</table>\n",
       "</div>"
      ],
      "text/plain": [
       "  Symbol  Year               Name Country  \\\n",
       "0  AM.PA  2022  Dassault Aviation  France   \n",
       "1     BA  2001             Boeing     USA   \n",
       "2     BA  2002             Boeing     USA   \n",
       "3     BA  2003             Boeing     USA   \n",
       "4     BA  2004             Boeing     USA   \n",
       "\n",
       "                                            Category  Market cap    Revenue  \\\n",
       "0  Aircraft manufacturers|Defense contractors|Man...       11.91  20.496073   \n",
       "1  Aircraft manufacturers|Aerospace|Dow jones|Man...       30.94  58.190000   \n",
       "2  Aircraft manufacturers|Aerospace|Dow jones|Man...       26.37  54.060000   \n",
       "3  Aircraft manufacturers|Aerospace|Dow jones|Man...       33.72  50.480000   \n",
       "4  Aircraft manufacturers|Aerospace|Dow jones|Man...       43.08  52.510000   \n",
       "\n",
       "   Earnings  \n",
       "0  1.464460  \n",
       "1  2.692635  \n",
       "2  2.397693  \n",
       "3  2.872054  \n",
       "4  3.476138  "
      ]
     },
     "execution_count": 75,
     "metadata": {},
     "output_type": "execute_result"
    }
   ],
   "source": [
    "# create a new dataframe that will include the log transformations of Market cap, Revenue, and Earnings\n",
    "df2 = df1.copy()\n",
    "df2.head()"
   ]
  },
  {
   "cell_type": "code",
   "execution_count": 76,
   "metadata": {},
   "outputs": [],
   "source": [
    "# log transform Market Cap and Revenue\n",
    "df2['Log_Market_Cap'] = np.log1p(df2['Market cap'])\n",
    "df2['Log_Revenue'] = np.log1p(df2['Revenue'])\n",
    "\n",
    "# shift Earnings values to ensure they're positive before the transformation\n",
    "shift_value = abs(df2['Earnings'].min()) + 1\n",
    "df2['Log_Earnings'] = np.log1p(df2['Earnings'] + shift_value)\n",
    "\n",
    "# drop original non log-transformed columns\n",
    "df2.drop(columns=['Market cap', 'Revenue', 'Earnings'], inplace=True)"
   ]
  },
  {
   "cell_type": "markdown",
   "metadata": {},
   "source": [
    "We repeat the IQR method to ensure our outliers have decreased."
   ]
  },
  {
   "cell_type": "code",
   "execution_count": 77,
   "metadata": {},
   "outputs": [
    {
     "name": "stdout",
     "output_type": "stream",
     "text": [
      "Number of outliers:\n",
      "Log_Market cap    0\n",
      "Log_Revenue       3\n",
      "Log_Earnings      0\n",
      "dtype: int64\n"
     ]
    }
   ],
   "source": [
    "# update numn_cols to include post-imputation data\n",
    "num_cols = pd.DataFrame(df2, columns=['Log_Market cap', 'Log_Revenue', 'Log_Earnings'])\n",
    "\n",
    "# calculate the IQR for each numerical variable\n",
    "Q1 = num_cols.quantile(0.25)\n",
    "Q3 = num_cols.quantile(0.75)\n",
    "IQR = Q3 - Q1\n",
    "\n",
    "# identify the outliers outside the IQR\n",
    "outliers = ((num_cols < (Q1 - 1.5 * IQR)) | (num_cols > (Q3 + 1.5 * IQR)))\n",
    "num_outliers = outliers.sum()\n",
    "print(f'Number of outliers:\\n{num_outliers}')"
   ]
  },
  {
   "cell_type": "markdown",
   "metadata": {},
   "source": [
    "### Closing Note:\n",
    "\n",
    "The data on defense contractors has been thoroughly preprocessed and is now ready to be input into a machine learning model. Before proceeding with model training, it's important to consider the effect of the remaining 3 outliers on model performance. We recommend running experiments both with and without these outliers to evaluate their impact. By comparing the model's performance in both scenarios, you can assess whether the outliers significantly affect the results or if they can be safely retained for further analysis. This step will help ensure that the model produces reliable and robust predictions."
   ]
  },
  {
   "cell_type": "markdown",
   "metadata": {},
   "source": []
  }
 ],
 "metadata": {
  "kernelspec": {
   "display_name": "ds",
   "language": "python",
   "name": "python3"
  },
  "language_info": {
   "codemirror_mode": {
    "name": "ipython",
    "version": 3
   },
   "file_extension": ".py",
   "mimetype": "text/x-python",
   "name": "python",
   "nbconvert_exporter": "python",
   "pygments_lexer": "ipython3",
   "version": "3.13.2"
  }
 },
 "nbformat": 4,
 "nbformat_minor": 2
}
